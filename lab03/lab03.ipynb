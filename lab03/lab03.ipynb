{
  "cells": [
    {
      "cell_type": "markdown",
      "id": "1f35580e",
      "metadata": {
        "id": "1f35580e"
      },
      "source": [
        "# 3η Εργαστηριακή Άσκηση\n",
        "# Link prediction - Πρόβλεψη συνδέσμων"
      ]
    },
    {
      "cell_type": "markdown",
      "id": "525b78a3",
      "metadata": {
        "id": "525b78a3"
      },
      "source": [
        "## Imports"
      ]
    },
    {
      "cell_type": "code",
      "execution_count": null,
      "id": "11fc9f36",
      "metadata": {
        "colab": {
          "base_uri": "https://localhost:8080/",
          "height": 1000
        },
        "id": "11fc9f36",
        "outputId": "a619c2bd-9366-4370-d0a7-26a042f1a32d"
      },
      "outputs": [],
      "source": [
        "%pip install --upgrade numpy\n",
        "%pip install --upgrade pandas\n",
        "%pip install --upgrade networkx\n",
        "%pip install --upgrade matplotlib\n",
        "%pip install --upgrade scikit-learn\n",
        "%pip install --upgrade node2vec"
      ]
    },
    {
      "cell_type": "code",
      "execution_count": 1,
      "id": "98d1ae7d",
      "metadata": {
        "id": "98d1ae7d"
      },
      "outputs": [],
      "source": [
        "import joblib\n",
        "import numpy as np\n",
        "import pandas as pd\n",
        "import networkx as nx\n",
        "import multiprocessing\n",
        "from node2vec import Node2Vec\n",
        "import matplotlib.pyplot as plt\n",
        "from sklearn.metrics import accuracy_score\n",
        "from sklearn.preprocessing import MinMaxScaler\n",
        "from sklearn.model_selection import GridSearchCV\n",
        "from sklearn.ensemble import RandomForestClassifier\n",
        "from sklearn.model_selection import train_test_split"
      ]
    },
    {
      "cell_type": "markdown",
      "id": "a47be716",
      "metadata": {
        "id": "a47be716"
      },
      "source": [
        "## 1. Κατασκευή γράφου και προεργασία για την πρόβλεψη συνδέσμων"
      ]
    },
    {
      "cell_type": "markdown",
      "id": "b30af479",
      "metadata": {
        "id": "b30af479"
      },
      "source": [
        "### 1.1.\n",
        "Χρησιμοποιήστε το dataset [Similarities (DBpedia)](http://konect.cc/networks/dbpedia-similar/) για να κατασκευάσετε τον μη κατευθυνόμενο (undirected) γράφο $G$ [[1]](https://dl.acm.org/doi/10.1145/2487788.2488173)[[2]](https://link.springer.com/chapter/10.1007/978-3-540-76298-0_52). Οι κόμβοι του γράφου αναπαριστούν σελίδες της Wikipedia και οι ακμές σχέση ομοιότητας μεταξύ τους. Στην σελίδα [KONECT (DBpedia)](http://konect.cc/networks/dbpedia-similar/) μπορείτε να βρείτε πληροφορίες για τις ιδιότητες του γράφου.\n",
        "\n",
        "***Υπόδειξη:***\n",
        "Μπορείτε να ελέγξετε προγραμματιστικά αν το dataset περιέχει διπλότυπα των ακμών με την ίδια ή αντίστροφη σειρά (π.χ. ακμές (a,b) και (b,a)), και να λάβετε υπ' όψιν σας αυτήν σας την παρατήρηση, όπου τυχόν χρειαστεί, στην ερώτηση 2."
      ]
    },
    {
      "cell_type": "code",
      "execution_count": 3,
      "id": "5ca93797",
      "metadata": {
        "id": "5ca93797"
      },
      "outputs": [],
      "source": [
        "!wget -q http://konect.cc/files/download.tsv.dbpedia-similar.tar.bz2 -P resources\n",
        "!tar -xf resources/download.tsv.dbpedia-similar.tar.bz2 -C resources\n",
        "!mv resources/dbpedia-similar/out.dbpedia-similar resources\n",
        "!rm -r resources/dbpedia-similar\n",
        "!rm resources/download.tsv.dbpedia-similar.tar.bz2"
      ]
    },
    {
      "cell_type": "code",
      "execution_count": 4,
      "id": "604316ef",
      "metadata": {
        "colab": {
          "base_uri": "https://localhost:8080/"
        },
        "id": "604316ef",
        "outputId": "13d53366-fd2e-4551-b3c6-d36705bedec8"
      },
      "outputs": [
        {
          "name": "stdout",
          "output_type": "stream",
          "text": [
            "There are no duplicate edges\n",
            "Graph with 430 nodes and 564 edges\n"
          ]
        }
      ],
      "source": [
        "edges = set()\n",
        "duplicates = set()\n",
        "\n",
        "with open('resources/out.dbpedia-similar', 'r') as f:\n",
        "    for line in f:\n",
        "        if line.startswith('%'):\n",
        "            continue\n",
        "        else:\n",
        "            from_node, to_node = map(int, line.split())\n",
        "            edge = tuple(sorted((from_node, to_node)))\n",
        "            if edge in edges:\n",
        "                duplicates.add(edge)\n",
        "            else:\n",
        "                edges.add(edge)\n",
        "\n",
        "if not duplicates:\n",
        "    print(f\"There are no duplicate edges\")\n",
        "else:\n",
        "    print(f\"The following are duplicate edges: {duplicates}\")\n",
        "\n",
        "G = nx.read_edgelist('resources/out.dbpedia-similar', create_using=nx.Graph(), nodetype=int, comments='%')\n",
        "G.remove_edges_from(nx.selfloop_edges(G))\n",
        "print(G)"
      ]
    },
    {
      "cell_type": "markdown",
      "id": "4bd79bac",
      "metadata": {
        "id": "4bd79bac"
      },
      "source": [
        "### 1.2.\n",
        "Εμφανίστε τον αριθμό των κόμβων, τον αριθμό των ακμών, τον μέσο βαθμό των κόμβων και τον αριθμό των συνεκτικών συνιστωσών (connected components) για τον γράφο $G$."
      ]
    },
    {
      "cell_type": "code",
      "execution_count": 5,
      "id": "9277a4e2",
      "metadata": {
        "colab": {
          "base_uri": "https://localhost:8080/"
        },
        "id": "9277a4e2",
        "outputId": "b165f901-5cbf-4373-e5a7-55c7929a256d"
      },
      "outputs": [
        {
          "name": "stdout",
          "output_type": "stream",
          "text": [
            "- Initial graph stats\n",
            "Nodes count: 430\n",
            "Edges count: 564\n",
            "Average degree: 2.6232558139534885\n",
            "Connected components count: 95\n"
          ]
        }
      ],
      "source": [
        "def get_graph_stats(G):\n",
        "    nodes_count = G.number_of_nodes()\n",
        "    edges_count = G.number_of_edges()\n",
        "    average_degree = 2 * edges_count / nodes_count\n",
        "    connected_components_count = nx.number_connected_components(G)\n",
        "\n",
        "    print(f\"Nodes count: {nodes_count}\")\n",
        "    print(f\"Edges count: {edges_count}\")\n",
        "    print(f\"Average degree: {average_degree}\")\n",
        "    print(f\"Connected components count: {connected_components_count}\")\n",
        "    \n",
        "    return nodes_count, edges_count, average_degree, connected_components_count\n",
        "\n",
        "print(f\"- Initial graph stats\")\n",
        "initial_nodes_count, initial_edges_count, initial_average_degree, initial_connected_components_count = get_graph_stats(G)"
      ]
    },
    {
      "cell_type": "markdown",
      "id": "bf03f6b9",
      "metadata": {
        "id": "bf03f6b9"
      },
      "source": [
        "### 1.3.\n",
        "Υπολογίστε το σύνολο των ασύνδετων ζευγών κόμβων (unconnected pairs) στον γράφο χρησιμοποιώντας τον πίνακα γειτνίασης (adjacency matrix). Δώστε επίσης τον αριθμό τους. Λάβετε υπ' όψιν σας ότι ο γράφος είναι μη κατευθυνόμενος και δεν χρειάζεται να διατρέξετε ολόκληρο τον πίνακα γειτνίασης."
      ]
    },
    {
      "cell_type": "code",
      "execution_count": 6,
      "id": "a7066d83",
      "metadata": {
        "colab": {
          "base_uri": "https://localhost:8080/"
        },
        "id": "a7066d83",
        "outputId": "9ac0a6ac-aee6-4172-f0de-67ab6b96c0ec"
      },
      "outputs": [
        {
          "name": "stdout",
          "output_type": "stream",
          "text": [
            "Unconnected pairs count: 91671\n"
          ]
        }
      ],
      "source": [
        "adjacency_matrix = nx.to_numpy_matrix(G)\n",
        "unconnected_pairs = []\n",
        "\n",
        "for i in range(adjacency_matrix.shape[0]):\n",
        "    for j in range(i + 1, adjacency_matrix.shape[1]):\n",
        "        if adjacency_matrix[i, j] == 0:\n",
        "            unconnected_pairs.append((i+1, j+1))\n",
        "\n",
        "print(f\"Unconnected pairs count: {len(unconnected_pairs)}\")"
      ]
    },
    {
      "cell_type": "markdown",
      "id": "154c2a8d",
      "metadata": {
        "id": "154c2a8d"
      },
      "source": [
        "### 1.4.\n",
        "Υπολογίστε το σύνολο των ακμών (removable edges) που μπορούν να αφαιρεθούν από τον γράφο χωρίς να υπάρχει κατάτμηση (splitting) του γράφου (δηλ. ο αριθμός των συνεκτικών συνιστωσών θα πρέπει να παραμένει αμετάβλητος). Υπόδειξη: Ελέγχετε επίσης ότι με αφαίρεση ακμής δεν μειώνεται ο αριθμός των κόμβων (εφόσον δεν υπάρχει ξεχωριστό αρχείο μόνο με κόμβους στο dataset). Δώστε επίσης τον αριθμό των ακμών (removable edges) που μπορούν να αφαιρεθούν υπό αυτές τις προϋποθέσεις."
      ]
    },
    {
      "cell_type": "code",
      "execution_count": 7,
      "id": "b39c2241",
      "metadata": {
        "colab": {
          "base_uri": "https://localhost:8080/"
        },
        "id": "b39c2241",
        "outputId": "2014ed0b-25a3-4c0d-f6ee-ef56cd56b39d"
      },
      "outputs": [
        {
          "name": "stdout",
          "output_type": "stream",
          "text": [
            "Removable edges count: 229\n"
          ]
        }
      ],
      "source": [
        "copy = G.copy()\n",
        "removable_edges = []\n",
        "\n",
        "for edge in G.edges():\n",
        "    copy.remove_edge(*edge)\n",
        "    if nx.number_connected_components(copy) == initial_connected_components_count and copy.number_of_nodes() == initial_nodes_count:\n",
        "        removable_edges.append(edge)\n",
        "    else:\n",
        "        copy.add_edge(*edge)\n",
        "\n",
        "print(f\"Removable edges count: {len(removable_edges)}\")"
      ]
    },
    {
      "cell_type": "markdown",
      "id": "eb03d745",
      "metadata": {
        "id": "eb03d745"
      },
      "source": [
        "### 1.5.\n",
        "a. Κατασκευάστε dataframe που συνενώνει τις απαντήσεις των ερωτημάτων 1.3 και 1.4 (unconnected+removables). Χρησιμοποιήστε την μεταβλητή $link$ που θα παίρνει τιμή 1 ή 0 ανάλογα με την ύπαρξη συνδέσμου ή μη. To dataframe αυτό συγκεντρώνει τα θετικά και αρνητικά δείγματα για την πρόβλεψη των μελλοντικών συνδέσεων (link: target variable).\n",
        "\n",
        "b. Κατασκευάστε τον γράφο $G'$ που προκύπτει από την αφαίρεση από τον γράφο $G$ των ακμών του ερωτήματος 1.4.\n",
        "\n",
        "c. Εμφανίστε τον αριθμό των κόμβων, τον αριθμό των ακμών, τον μέσο βαθμό των κόμβων και τον αριθμό των συνεκτικών συνιστωσών (connected components) για τον γράφο $G'$."
      ]
    },
    {
      "cell_type": "code",
      "execution_count": 8,
      "id": "cb033fc0",
      "metadata": {
        "colab": {
          "base_uri": "https://localhost:8080/"
        },
        "id": "cb033fc0",
        "outputId": "b1b00c14-d7ac-4eea-d77b-b57de16a779d"
      },
      "outputs": [
        {
          "name": "stdout",
          "output_type": "stream",
          "text": [
            "- Reduced graph stats\n",
            "Nodes count: 430\n",
            "Edges count: 335\n",
            "Average degree: 1.558139534883721\n",
            "Connected components count: 95\n"
          ]
        }
      ],
      "source": [
        "df_edges = unconnected_pairs + removable_edges\n",
        "df_edges.sort()\n",
        "df_links = [0 if edge in unconnected_pairs else 1 for edge in df_edges]\n",
        "df = pd.DataFrame({'edge': df_edges, 'link': df_links})\n",
        "\n",
        "G_reduced = G.copy()\n",
        "G_reduced.remove_edges_from(removable_edges)\n",
        "\n",
        "print(f\"- Reduced graph stats\")\n",
        "reduced_nodes_count, reduced_edges_count, reduced_average_degree, reduced_connected_components_count = get_graph_stats(G_reduced)"
      ]
    },
    {
      "cell_type": "markdown",
      "id": "bedca856",
      "metadata": {
        "id": "bedca856"
      },
      "source": [
        "## 2. Εισαγωγή σε similarity-based μετρικές για Link prediction\n",
        "\n",
        "* Η μετρική **Jaccard Coefficient (JC)** των κόμβων ${u}$ και ${v}$ ορίζεται ως $\\frac{|\\Gamma(u) \\cap \\Gamma(v)|}{|\\Gamma(u) \\cup \\Gamma(v)|}$, όπου ${\\Gamma(u)}$ είναι το σύνολο των γειτονικών κόμβων του κόμβου ${u}$.\n",
        "\n",
        "* Η μετρική **Preferential Αttachment (PA)** των κόμβων $u$ και $v$ ορίζεται ως $|\\Gamma(u)| |\\Gamma(v)|$, όπου $\\Gamma(u)$ είναι το σύνολο των γειτονικών κόμβων του $u$.\n",
        "\n",
        "* Η μετρική **Resource Allocation (RA)** των κόμβων $u$ και $v$ ορίζεται ως $\\sum_{w \\in \\Gamma(u) \\cap \\Gamma(v)} \\frac{1}{|\\Gamma(w)|}$, όπου $\\Gamma(u)$ είναι το σύνολο των γειτονικών κόμβων του $u$."
      ]
    },
    {
      "cell_type": "markdown",
      "id": "e940fd5f",
      "metadata": {
        "id": "e940fd5f"
      },
      "source": [
        "### 2.1.\n",
        "Για τον γράφο $G'$, που κατασκευάσατε στο ερώτημα 1.5.b, υπολογίστε την μετρική **Jaccard Coefficient (JC)**. [Χρησιμοποιήστε την υλοποιημένη συνάρτηση του λογισμικού NetworkX](https://networkx.org/documentation/stable/reference/algorithms/link_prediction.html?highlight=link%20prediction)."
      ]
    },
    {
      "cell_type": "code",
      "execution_count": 9,
      "id": "def59d2a",
      "metadata": {
        "id": "def59d2a"
      },
      "outputs": [],
      "source": [
        "jaccard_coefficient = [(u, v, p) for u, v, p in nx.jaccard_coefficient(G_reduced)]"
      ]
    },
    {
      "cell_type": "markdown",
      "id": "8710bc5a",
      "metadata": {
        "id": "8710bc5a"
      },
      "source": [
        "### 2.2.\n",
        "Δώστε τις $k$ ακμές με την υψηλότερη τιμή μετρικής $JC$, όπου $k$ ο $Α.Μ.$ σας $mod$ $10$. Για $Α.Μ.$ λήγοντα σε $0$ δώστε τις $10$ ακμές με την υψηλότερη τιμή μετρικής.\n",
        "Για την σύγκριση μεταξύ διαφορετικών μετρικών προτιμάται η εύρεση των $k$ επικρατέστερων συνδέσμων, αφού οι μετρικές επιστρέφουν διαφορετικό εύρος τιμών."
      ]
    },
    {
      "cell_type": "code",
      "execution_count": 10,
      "id": "7d9d3b81",
      "metadata": {
        "colab": {
          "base_uri": "https://localhost:8080/"
        },
        "id": "7d9d3b81",
        "outputId": "dce165ea-a53e-4ee1-8447-c5684251f6e7"
      },
      "outputs": [
        {
          "name": "stdout",
          "output_type": "stream",
          "text": [
            "- Top 3 edges with best Jaccard Coefficients:\n",
            "#1: Edge from node 4 to node 46 with a Jaccard Coefficient of 1.0\n",
            "#2: Edge from node 4 to node 47 with a Jaccard Coefficient of 1.0\n",
            "#3: Edge from node 4 to node 49 with a Jaccard Coefficient of 1.0\n"
          ]
        }
      ],
      "source": [
        "k = 18153 % 10\n",
        "sorted_jaccard_coefficient = sorted(jaccard_coefficient, key=lambda x: x[2], reverse=True)\n",
        "\n",
        "print(f\"- Top {k} edges with best Jaccard Coefficients:\")\n",
        "for index, triple in enumerate(sorted_jaccard_coefficient[:k]):\n",
        "    from_node, to_node, jc = triple\n",
        "    print(f\"#{index+1}: Edge from node {from_node} to node {to_node} with a Jaccard Coefficient of {jc}\")"
      ]
    },
    {
      "cell_type": "markdown",
      "id": "4f52b6c3",
      "metadata": {
        "id": "4f52b6c3"
      },
      "source": [
        "### 2.3.\n",
        "Προσδιορίστε για την μέτρηση της απόδοσης της μετρικής $JC$ τα μεγέθη $Precision$, $Recall$ και $Accuracy$ και αναπαραστήστε τα γραφικά για τιμές κατωφλίου: $0.1$, $0.15$, $0.25$, $0.5$, $1.0$.\n",
        "\n",
        "$Precision=\\frac{TP}{TP+FP}$, όπου $TP$: αληθώς θετικά αποτελέσματα, $FP$: ψευδώς θετικά αποτελέσματα\n",
        "\n",
        "$Recall=\\frac{TP}{TP+FN}$, όπου $TP$: αληθώς θετικά αποτελέσματα, $FN$: ψευδώς αρνητικά αποτελέσματα\n",
        "\n",
        "$Accuracy=\\frac{TP+TN}{TP+FN+TN+FP}$, όπου $TP$: αληθώς θετικά αποτελέσματα, $TN$: αληθώς αρνητικά αποτελέσματα, $FN$: ψευδώς αρνητικά αποτελέσματα, $FP$: ψευδώς θετικά αποτελέσματα\n",
        "\n",
        "***Υπόδειξη:***\n",
        "* Θετικό θεωρήστε ένα αποτέλεσμα, αν η μετρική $JC$ υπερβαίνει μια τιμή κατωφλίου (>=). Αρνητικό θεωρήστε το στην αντίθετη περίπτωση.\n",
        "* Αληθώς θετικά είναι τα αποτελέσματα που βγήκαν θετικά (η τιμή της $JC$ υπερβαίνει την τιμή κατωφλίου) και πράγματι θα υπάρξουν οι συνδέσεις που περιγράφουν (ερ. 1.4).\n",
        "* Αληθώς αρνητικά είναι τα αποτελέσματα που βγήκαν αρνητικά και πράγματι δεν θα υπάρξουν οι συνδέσεις που περιγράφουν (ερ. 1.3).\n",
        "* Ψευδώς θετικά είναι τα αποτελέσματα που βγήκαν θετικά, ενώ δεν θα υπάρξουν οι συνδέσεις που περιγράφουν.\n",
        "* Ψευδώς αρνητικά είναι τα αποτελέσματα που βγήκαν αρνητικά, ενώ θα υπάρξουν οι συνδέσεις που περιγράφουν.\n",
        "* Το άθροισμα $TN+FP$ πρέπει κάθε φορά να σας δίνει όλες τις ασύνδετες ακμές του γράφου $G$.\n",
        "* Από το ερώτημα 1.3 οι ακμές που υπολογίσατε είναι αυτές για τις οποίες δεν θα υπάρξουν συνδέσεις.\n",
        "* Από το ερώτημα 1.4 οι ακμές που υπολογίσατε είναι αυτές για τις οποίες θα υπάρξουν συνδέσεις."
      ]
    },
    {
      "cell_type": "code",
      "execution_count": 20,
      "id": "d8b0d5fd",
      "metadata": {
        "colab": {
          "base_uri": "https://localhost:8080/",
          "height": 369
        },
        "id": "d8b0d5fd",
        "outputId": "39896bf9-51e8-4934-ab7a-0d491bb463b9"
      },
      "outputs": [
        {
          "data": {
            "image/png": "[encoded data removed]",
            "text/plain": [
              "<Figure size 1080x360 with 3 Axes>"
            ]
          },
          "metadata": {
            "needs_background": "light"
          },
          "output_type": "display_data"
        }
      ],
      "source": [
        "thresholds = [0.1, 0.15, 0.25, 0.5, 1.0]\n",
        "\n",
        "def JC_function(threshold):\n",
        "    TP, FP, FN, TN = 0, 0, 0, 0\n",
        "    \n",
        "    for edge in jaccard_coefficient:\n",
        "        from_node, to_node, jc = edge\n",
        "\n",
        "        if jc >= threshold:\n",
        "            if (from_node, to_node) in removable_edges:\n",
        "                TP += 1\n",
        "            elif (from_node, to_node) in unconnected_pairs:\n",
        "                FP += 1\n",
        "\n",
        "        elif jc < threshold:\n",
        "            if (from_node, to_node) in removable_edges:\n",
        "                FN += 1\n",
        "            elif (from_node, to_node) in unconnected_pairs:\n",
        "                TN += 1\n",
        "    \n",
        "    precision = TP / (TP + FP)\n",
        "    recall = TP / (TP + FN)\n",
        "    accuracy = (TP + TN) / (TP + FP + FN + TN)\n",
        "\n",
        "    return precision, recall, accuracy\n",
        "\n",
        "precisions, recalls, accuracies = [], [], []\n",
        "\n",
        "for threshold in thresholds:\n",
        "    precision, recall, accuracy = JC_function(threshold)\n",
        "    precisions.append(precision)\n",
        "    recalls.append(recall)\n",
        "    accuracies.append(accuracy)\n",
        "\n",
        "fig, (ax1, ax2, ax3) = plt.subplots(1, 3, figsize=(15, 5))\n",
        "data = zip([ax1, ax2, ax3],\n",
        "           [precisions, recalls, accuracies],\n",
        "           ['Precision', 'Recall', 'Accuracy'])\n",
        "\n",
        "for ax, metric, title in data:\n",
        "    ax.plot(thresholds, metric)\n",
        "    ax.set_xlabel('Threshold')\n",
        "    ax.set_ylabel(title)\n",
        "plt.tight_layout()\n",
        "plt.show()"
      ]
    },
    {
      "cell_type": "markdown",
      "id": "993b2561",
      "metadata": {
        "id": "993b2561"
      },
      "source": [
        "## 3. Πρόβλεψη συνδέσμων βάσει similarity-based μετρικών"
      ]
    },
    {
      "cell_type": "markdown",
      "id": "9fc68cec",
      "metadata": {
        "id": "9fc68cec"
      },
      "source": [
        "### 3.1.\n",
        "Προτείνετε μια τουλάχιστον μέθοδο, για να εξερευνήσουμε και να εκφράσουμε μέσα από τα πακέτα NumPy ή SciPy ή Pandas την συσχέτιση (correlation) μεταξύ των τιμών των μετρικών **Jaccard Coefficient**, **Preferential Attachment**, **Resource Allocation** για τον μειωμένο γράφο $G'$. \n",
        "\n",
        "***Σημείωση***: Δεν χρειάζεται κάποια υλοποίηση, μόνο αναφορά της μεθόδου συσχέτισης και επεξήγηση της επιλογής σας."
      ]
    },
    {
      "cell_type": "markdown",
      "id": "2224ebdf",
      "metadata": {
        "id": "2224ebdf"
      },
      "source": [
        "### 3.2.\n",
        "Εργαστείτε πάνω σε **αντίγραφο** του dataframe που κατασκευάσατε στο ερώτημα 1.5.a (unconnected+removables). Δημιουργήστε στήλη (column) με τις ακμές του γράφου και θέστε την ως index του dataframe. Στο dataframe θα προσθέσετε ως στήλες τις τιμές των μετρικών (**Jaccard Coefficient**, **Preferential Attachment**, **Resource Allocation**) για τον μειωμένο γράφο $G'$. Οι τιμές των μετρικών μπορούν να υπολογιστούν με τις συναρτήσεις του πακέτου NetworkX.\n",
        "\n",
        "|       | link  |Jacc.Coeff.|Pr.Attachment| Resource Allocation|\n",
        "|-------|-------|-----------|-------------|--------------------|\n",
        "|(1, 6) |  0    |  0.333333 |     32      |    0.700000        |\n",
        "|(1, 46)|  0    |  0.200000 |      8      |    0.166667        |"
      ]
    },
    {
      "cell_type": "code",
      "execution_count": 11,
      "id": "7c40c8d6",
      "metadata": {
        "id": "7c40c8d6"
      },
      "outputs": [],
      "source": [
        "df_copy = df.copy()\n",
        "df_copy.set_index('edge', inplace=True)\n",
        "\n",
        "jaccard_coefficient = [p for u, v, p in nx.jaccard_coefficient(G_reduced)]\n",
        "preferential_attachment = [p for u, v, p in nx.preferential_attachment(G_reduced)]\n",
        "resource_allocation = [p for u, v, p in nx.resource_allocation_index(G_reduced)]\n",
        "\n",
        "df_copy = df_copy.assign(jaccard_coefficient=jaccard_coefficient, preferential_attachment=preferential_attachment, resource_allocation=resource_allocation)"
      ]
    },
    {
      "cell_type": "code",
      "execution_count": 12,
      "id": "620c29a1",
      "metadata": {
        "colab": {
          "base_uri": "https://localhost:8080/",
          "height": 455
        },
        "id": "620c29a1",
        "outputId": "af57a3cc-49d1-4634-e2e3-3ac72c099394"
      },
      "outputs": [
        {
          "data": {
            "text/html": [
              "<div>\n",
              "<style scoped>\n",
              "    .dataframe tbody tr th:only-of-type {\n",
              "        vertical-align: middle;\n",
              "    }\n",
              "\n",
              "    .dataframe tbody tr th {\n",
              "        vertical-align: top;\n",
              "    }\n",
              "\n",
              "    .dataframe thead th {\n",
              "        text-align: right;\n",
              "    }\n",
              "</style>\n",
              "<table border=\"1\" class=\"dataframe\">\n",
              "  <thead>\n",
              "    <tr style=\"text-align: right;\">\n",
              "      <th></th>\n",
              "      <th>link</th>\n",
              "      <th>jaccard_coefficient</th>\n",
              "      <th>preferential_attachment</th>\n",
              "      <th>resource_allocation</th>\n",
              "    </tr>\n",
              "    <tr>\n",
              "      <th>edge</th>\n",
              "      <th></th>\n",
              "      <th></th>\n",
              "      <th></th>\n",
              "      <th></th>\n",
              "    </tr>\n",
              "  </thead>\n",
              "  <tbody>\n",
              "    <tr>\n",
              "      <th>(1, 2)</th>\n",
              "      <td>1</td>\n",
              "      <td>0.0</td>\n",
              "      <td>1</td>\n",
              "      <td>0.0</td>\n",
              "    </tr>\n",
              "    <tr>\n",
              "      <th>(1, 3)</th>\n",
              "      <td>1</td>\n",
              "      <td>0.0</td>\n",
              "      <td>2</td>\n",
              "      <td>0.0</td>\n",
              "    </tr>\n",
              "    <tr>\n",
              "      <th>(1, 4)</th>\n",
              "      <td>1</td>\n",
              "      <td>0.0</td>\n",
              "      <td>1</td>\n",
              "      <td>0.0</td>\n",
              "    </tr>\n",
              "    <tr>\n",
              "      <th>(1, 6)</th>\n",
              "      <td>0</td>\n",
              "      <td>0.0</td>\n",
              "      <td>7</td>\n",
              "      <td>0.0</td>\n",
              "    </tr>\n",
              "    <tr>\n",
              "      <th>(1, 7)</th>\n",
              "      <td>0</td>\n",
              "      <td>0.0</td>\n",
              "      <td>1</td>\n",
              "      <td>0.0</td>\n",
              "    </tr>\n",
              "    <tr>\n",
              "      <th>...</th>\n",
              "      <td>...</td>\n",
              "      <td>...</td>\n",
              "      <td>...</td>\n",
              "      <td>...</td>\n",
              "    </tr>\n",
              "    <tr>\n",
              "      <th>(426, 430)</th>\n",
              "      <td>0</td>\n",
              "      <td>0.0</td>\n",
              "      <td>1</td>\n",
              "      <td>0.0</td>\n",
              "    </tr>\n",
              "    <tr>\n",
              "      <th>(427, 428)</th>\n",
              "      <td>0</td>\n",
              "      <td>0.0</td>\n",
              "      <td>2</td>\n",
              "      <td>0.0</td>\n",
              "    </tr>\n",
              "    <tr>\n",
              "      <th>(427, 429)</th>\n",
              "      <td>0</td>\n",
              "      <td>0.0</td>\n",
              "      <td>1</td>\n",
              "      <td>0.0</td>\n",
              "    </tr>\n",
              "    <tr>\n",
              "      <th>(427, 430)</th>\n",
              "      <td>0</td>\n",
              "      <td>0.0</td>\n",
              "      <td>1</td>\n",
              "      <td>0.0</td>\n",
              "    </tr>\n",
              "    <tr>\n",
              "      <th>(429, 430)</th>\n",
              "      <td>0</td>\n",
              "      <td>1.0</td>\n",
              "      <td>1</td>\n",
              "      <td>0.5</td>\n",
              "    </tr>\n",
              "  </tbody>\n",
              "</table>\n",
              "<p>91900 rows × 4 columns</p>\n",
              "</div>"
            ],
            "text/plain": [
              "            link  jaccard_coefficient  preferential_attachment  \\\n",
              "edge                                                             \n",
              "(1, 2)         1                  0.0                        1   \n",
              "(1, 3)         1                  0.0                        2   \n",
              "(1, 4)         1                  0.0                        1   \n",
              "(1, 6)         0                  0.0                        7   \n",
              "(1, 7)         0                  0.0                        1   \n",
              "...          ...                  ...                      ...   \n",
              "(426, 430)     0                  0.0                        1   \n",
              "(427, 428)     0                  0.0                        2   \n",
              "(427, 429)     0                  0.0                        1   \n",
              "(427, 430)     0                  0.0                        1   \n",
              "(429, 430)     0                  1.0                        1   \n",
              "\n",
              "            resource_allocation  \n",
              "edge                             \n",
              "(1, 2)                      0.0  \n",
              "(1, 3)                      0.0  \n",
              "(1, 4)                      0.0  \n",
              "(1, 6)                      0.0  \n",
              "(1, 7)                      0.0  \n",
              "...                         ...  \n",
              "(426, 430)                  0.0  \n",
              "(427, 428)                  0.0  \n",
              "(427, 429)                  0.0  \n",
              "(427, 430)                  0.0  \n",
              "(429, 430)                  0.5  \n",
              "\n",
              "[91900 rows x 4 columns]"
            ]
          },
          "execution_count": 12,
          "metadata": {},
          "output_type": "execute_result"
        }
      ],
      "source": [
        "df_copy"
      ]
    },
    {
      "cell_type": "markdown",
      "id": "eaf8679f",
      "metadata": {
        "id": "eaf8679f"
      },
      "source": [
        "### 3.3.\n",
        "a. Χρησιμοποιήστε τον Random Forest Classifier και το αντίγραφο dataframe που κατασκευάσατε στο ερώτημα 3.2, για να προβλέψετε συνδέσεις. Συμπληρώστε στον κώδικα: τα features ($X$), την target variable ($y$) και τα ορίσματα της συνάρτησης $fit$ για το training του μοντέλου.\n",
        "\n",
        "b. Δώστε τις ($A.M$ $mod$ $10$) πρώτες προβλέψεις και την ακρίβεια ($accuracy$) του μοντέλου.\n",
        "\n",
        "c. Υπολογίστε την πιθανότητα να συνδεθούν οι κόμβοι ($1$,$47$) βάσει του μοντέλου σας."
      ]
    },
    {
      "cell_type": "code",
      "execution_count": 13,
      "id": "df4a65f5",
      "metadata": {
        "id": "df4a65f5"
      },
      "outputs": [],
      "source": [
        "X = df_copy[['jaccard_coefficient', 'preferential_attachment', 'resource_allocation']]\n",
        "y = df_copy['link']\n",
        "\n",
        "X_train, X_test, y_train, y_test = train_test_split(X, y, random_state = 0)"
      ]
    },
    {
      "cell_type": "code",
      "execution_count": 14,
      "id": "26affc3a",
      "metadata": {
        "id": "26affc3a"
      },
      "outputs": [],
      "source": [
        "classifier = RandomForestClassifier()\n",
        "\n",
        "mm_scaler = MinMaxScaler()\n",
        "X_train_scaled = mm_scaler.fit_transform(X_train)\n",
        "X_test_scaled = mm_scaler.transform(X_test)\n",
        "\n",
        "parameters = {'n_estimators' : [10, 50, 100], 'max_depth' : [5, 10, 15]}\n",
        "model = GridSearchCV(classifier, param_grid = parameters)"
      ]
    },
    {
      "cell_type": "code",
      "execution_count": 15,
      "id": "431e2d35",
      "metadata": {
        "colab": {
          "base_uri": "https://localhost:8080/",
          "height": 118
        },
        "id": "431e2d35",
        "outputId": "6f9e1ce7-68a7-48dd-84c0-9c41f6eb6378"
      },
      "outputs": [
        {
          "data": {
            "text/html": [
              "<style>#sk-container-id-1 {color: black;background-color: white;}#sk-container-id-1 pre{padding: 0;}#sk-container-id-1 div.sk-toggleable {background-color: white;}#sk-container-id-1 label.sk-toggleable__label {cursor: pointer;display: block;width: 100%;margin-bottom: 0;padding: 0.3em;box-sizing: border-box;text-align: center;}#sk-container-id-1 label.sk-toggleable__label-arrow:before {content: \"▸\";float: left;margin-right: 0.25em;color: #696969;}#sk-container-id-1 label.sk-toggleable__label-arrow:hover:before {color: black;}#sk-container-id-1 div.sk-estimator:hover label.sk-toggleable__label-arrow:before {color: black;}#sk-container-id-1 div.sk-toggleable__content {max-height: 0;max-width: 0;overflow: hidden;text-align: left;background-color: #f0f8ff;}#sk-container-id-1 div.sk-toggleable__content pre {margin: 0.2em;color: black;border-radius: 0.25em;background-color: #f0f8ff;}#sk-container-id-1 input.sk-toggleable__control:checked~div.sk-toggleable__content {max-height: 200px;max-width: 100%;overflow: auto;}#sk-container-id-1 input.sk-toggleable__control:checked~label.sk-toggleable__label-arrow:before {content: \"▾\";}#sk-container-id-1 div.sk-estimator input.sk-toggleable__control:checked~label.sk-toggleable__label {background-color: #d4ebff;}#sk-container-id-1 div.sk-label input.sk-toggleable__control:checked~label.sk-toggleable__label {background-color: #d4ebff;}#sk-container-id-1 input.sk-hidden--visually {border: 0;clip: rect(1px 1px 1px 1px);clip: rect(1px, 1px, 1px, 1px);height: 1px;margin: -1px;overflow: hidden;padding: 0;position: absolute;width: 1px;}#sk-container-id-1 div.sk-estimator {font-family: monospace;background-color: #f0f8ff;border: 1px dotted black;border-radius: 0.25em;box-sizing: border-box;margin-bottom: 0.5em;}#sk-container-id-1 div.sk-estimator:hover {background-color: #d4ebff;}#sk-container-id-1 div.sk-parallel-item::after {content: \"\";width: 100%;border-bottom: 1px solid gray;flex-grow: 1;}#sk-container-id-1 div.sk-label:hover label.sk-toggleable__label {background-color: #d4ebff;}#sk-container-id-1 div.sk-serial::before {content: \"\";position: absolute;border-left: 1px solid gray;box-sizing: border-box;top: 0;bottom: 0;left: 50%;z-index: 0;}#sk-container-id-1 div.sk-serial {display: flex;flex-direction: column;align-items: center;background-color: white;padding-right: 0.2em;padding-left: 0.2em;position: relative;}#sk-container-id-1 div.sk-item {position: relative;z-index: 1;}#sk-container-id-1 div.sk-parallel {display: flex;align-items: stretch;justify-content: center;background-color: white;position: relative;}#sk-container-id-1 div.sk-item::before, #sk-container-id-1 div.sk-parallel-item::before {content: \"\";position: absolute;border-left: 1px solid gray;box-sizing: border-box;top: 0;bottom: 0;left: 50%;z-index: -1;}#sk-container-id-1 div.sk-parallel-item {display: flex;flex-direction: column;z-index: 1;position: relative;background-color: white;}#sk-container-id-1 div.sk-parallel-item:first-child::after {align-self: flex-end;width: 50%;}#sk-container-id-1 div.sk-parallel-item:last-child::after {align-self: flex-start;width: 50%;}#sk-container-id-1 div.sk-parallel-item:only-child::after {width: 0;}#sk-container-id-1 div.sk-dashed-wrapped {border: 1px dashed gray;margin: 0 0.4em 0.5em 0.4em;box-sizing: border-box;padding-bottom: 0.4em;background-color: white;}#sk-container-id-1 div.sk-label label {font-family: monospace;font-weight: bold;display: inline-block;line-height: 1.2em;}#sk-container-id-1 div.sk-label-container {text-align: center;}#sk-container-id-1 div.sk-container {/* jupyter's `normalize.less` sets `[hidden] { display: none; }` but bootstrap.min.css set `[hidden] { display: none !important; }` so we also need the `!important` here to be able to override the default hidden behavior on the sphinx rendered scikit-learn.org. See: https://github.com/scikit-learn/scikit-learn/issues/21755 */display: inline-block !important;position: relative;}#sk-container-id-1 div.sk-text-repr-fallback {display: none;}</style><div id=\"sk-container-id-1\" class=\"sk-top-container\"><div class=\"sk-text-repr-fallback\"><pre>GridSearchCV(estimator=RandomForestClassifier(),\n",
              "             param_grid={&#x27;max_depth&#x27;: [5, 10, 15],\n",
              "                         &#x27;n_estimators&#x27;: [10, 50, 100]})</pre><b>In a Jupyter environment, please rerun this cell to show the HTML representation or trust the notebook. <br />On GitHub, the HTML representation is unable to render, please try loading this page with nbviewer.org.</b></div><div class=\"sk-container\" hidden><div class=\"sk-item sk-dashed-wrapped\"><div class=\"sk-label-container\"><div class=\"sk-label sk-toggleable\"><input class=\"sk-toggleable__control sk-hidden--visually\" id=\"sk-estimator-id-1\" type=\"checkbox\" ><label for=\"sk-estimator-id-1\" class=\"sk-toggleable__label sk-toggleable__label-arrow\">GridSearchCV</label><div class=\"sk-toggleable__content\"><pre>GridSearchCV(estimator=RandomForestClassifier(),\n",
              "             param_grid={&#x27;max_depth&#x27;: [5, 10, 15],\n",
              "                         &#x27;n_estimators&#x27;: [10, 50, 100]})</pre></div></div></div><div class=\"sk-parallel\"><div class=\"sk-parallel-item\"><div class=\"sk-item\"><div class=\"sk-label-container\"><div class=\"sk-label sk-toggleable\"><input class=\"sk-toggleable__control sk-hidden--visually\" id=\"sk-estimator-id-2\" type=\"checkbox\" ><label for=\"sk-estimator-id-2\" class=\"sk-toggleable__label sk-toggleable__label-arrow\">estimator: RandomForestClassifier</label><div class=\"sk-toggleable__content\"><pre>RandomForestClassifier()</pre></div></div></div><div class=\"sk-serial\"><div class=\"sk-item\"><div class=\"sk-estimator sk-toggleable\"><input class=\"sk-toggleable__control sk-hidden--visually\" id=\"sk-estimator-id-3\" type=\"checkbox\" ><label for=\"sk-estimator-id-3\" class=\"sk-toggleable__label sk-toggleable__label-arrow\">RandomForestClassifier</label><div class=\"sk-toggleable__content\"><pre>RandomForestClassifier()</pre></div></div></div></div></div></div></div></div></div></div>"
            ],
            "text/plain": [
              "GridSearchCV(estimator=RandomForestClassifier(),\n",
              "             param_grid={'max_depth': [5, 10, 15],\n",
              "                         'n_estimators': [10, 50, 100]})"
            ]
          },
          "execution_count": 15,
          "metadata": {},
          "output_type": "execute_result"
        }
      ],
      "source": [
        "model.fit(X_train_scaled, y_train)"
      ]
    },
    {
      "cell_type": "code",
      "execution_count": 16,
      "id": "1b075584",
      "metadata": {
        "colab": {
          "base_uri": "https://localhost:8080/"
        },
        "id": "1b075584",
        "outputId": "c72eae93-5c79-4bbc-8097-1c15a6c27f53"
      },
      "outputs": [
        {
          "name": "stdout",
          "output_type": "stream",
          "text": [
            "- First 3 predictions:\n",
            "#1: 0\n",
            "#2: 0\n",
            "#3: 0\n",
            "\n",
            "- Accuracy: 0.9996082698585419\n"
          ]
        }
      ],
      "source": [
        "y_pred = model.predict(X_test_scaled)\n",
        "\n",
        "print(f\"- First {k} predictions:\")\n",
        "for index, prediction in enumerate(y_pred[:k]):\n",
        "    print(f\"#{index+1}: {prediction}\")\n",
        "\n",
        "print(f\"\\n- Accuracy: {accuracy_score(y_test, y_pred)}\")"
      ]
    },
    {
      "cell_type": "code",
      "execution_count": 17,
      "id": "b042eca7",
      "metadata": {
        "colab": {
          "base_uri": "https://localhost:8080/"
        },
        "id": "b042eca7",
        "outputId": "f4692b97-5498-4749-f1ca-5d6dfa210da8"
      },
      "outputs": [
        {
          "name": "stdout",
          "output_type": "stream",
          "text": [
            "Probability of edge (1, 47) being a link: 0.00042690410759662543\n"
          ]
        }
      ],
      "source": [
        "edge = df_copy.loc[[(1, 47)]]\n",
        "x_edge = edge[['jaccard_coefficient', 'preferential_attachment', 'resource_allocation']]\n",
        "scaled_x_edge = mm_scaler.transform(x_edge)\n",
        "probability = model.predict_proba(scaled_x_edge)\n",
        "\n",
        "print(f\"Probability of edge (1, 47) being a link: {probability[0][1]}\")"
      ]
    },
    {
      "cell_type": "markdown",
      "id": "7c69a7dc",
      "metadata": {
        "id": "7c69a7dc"
      },
      "source": [
        "## 4. Πρόβλεψη συνδέσμων με embedding βασισμένο σε τυχαίους περιπάτους (Random Walks)"
      ]
    },
    {
      "cell_type": "markdown",
      "id": "3e274fe0",
      "metadata": {
        "id": "3e274fe0"
      },
      "source": [
        "### 4.1.\n",
        "Εξάγετε τα χαρακτηριστικά (features) του γράφου $G'$, που προέκυψε από την αφαίρεση των ακμών. Για τον σκοπό αυτό χρησιμοποιήστε τον αλγόριθμο **Node2vec** [[3]](https://cs.stanford.edu/~jure/pubs/node2vec-kdd16.pdf). Ο αλγόριθμος αντιστοιχίζει τους κόμβους του γράφου μέσω τυχαίων περιπάτων (biased 2nd order random walks) σε ένα χώρο μικρού αριθμού διαστάσεων (low dimensional space) διατηρώντας την μεταξύ τους γειτνίαση.\n",
        "\n",
        "Για την επιλογή των παραμέτρων:\n",
        "* p - παράμετρος τυχαίων περιπάτων p που καθορίζει την πιθανότητα “1/p” επιστροφής στον κόμβο προέλευσης (source node),\n",
        "* q - παράμετρος τυχαίων περιπάτων q που καθορίζει την πιθανότητα  “1/q” μετακίνησης σε κόμβο μακριά από τον κόμβο προέλευσης (source node),\n",
        "* dimensions - πλήθος διαστάσεων των Node2Vec embeddings,\n",
        "* num_walks - αριθμός περιπάτων από κάθε κόμβο,\n",
        "* walk_length - μήκος τυχαίου περιπάτου,\n",
        "* window_size - μέγεθος παραθύρου context για τον αλγόριθμο Word2Vec,\n",
        "* num_iter - αριθμός SGD επαναλήψεων (epochs),\n",
        "* workers - αριθμός workers για τον Word2Vec,\n",
        "\n",
        "χρησιμοποιήστε τις τιμές:\n",
        "\n",
        "|   p   |   q   | dimensions|  num_walks  |walk_length |window_size|          workers          |\n",
        "|-------|-------|-----------|-------------|------------|-----------|---------------------------|\n",
        "|  1.0  |  1.0  |  128      |     10      |    80      |     10    |multiprocessing.cpu_count()|"
      ]
    },
    {
      "cell_type": "code",
      "execution_count": 18,
      "id": "aa8e668d",
      "metadata": {
        "colab": {
          "base_uri": "https://localhost:8080/",
          "height": 49,
          "referenced_widgets": [
            "30a941629b38479791d74454cb9adf69",
            "8a4fd8d1fb784afdbd4b5c902d968956",
            "93cac23e578c4b34824b877618eed3c3",
            "6438f19ae3bb4399a54e5cd5b1db09c8",
            "55411d8807cb4ffa83e8bb2358a5fb94",
            "84aef8877f5d4cbb9230241a5cfe782e",
            "049535b76e6f44adb4a14fecb8bf8420",
            "6c7110f03ce84f98bd833e348751ae72",
            "c55572a7e5674195a19efbd6ca9632bd",
            "ce2508239e3e4ff998c9014f62a8267e",
            "7fdb761fc5c14f478aecf7004273171e"
          ]
        },
        "id": "aa8e668d",
        "outputId": "911b3fe9-acd1-4096-c7a9-37f55e0078f5"
      },
      "outputs": [
        {
          "data": {
            "application/vnd.jupyter.widget-view+json": {
              "model_id": "7896a2ffcf694c41b731819d91d09eb9",
              "version_major": 2,
              "version_minor": 0
            },
            "text/plain": [
              "Computing transition probabilities:   0%|          | 0/430 [00:00<?, ?it/s]"
            ]
          },
          "metadata": {},
          "output_type": "display_data"
        },
        {
          "name": "stderr",
          "output_type": "stream",
          "text": [
            "Generating walks (CPU: 3): 100%|██████████| 2/2 [00:01<00:00,  1.78it/s]\n",
            "Generating walks (CPU: 4): 100%|██████████| 2/2 [00:01<00:00,  2.00it/s]\n",
            "Generating walks (CPU: 2): 100%|██████████| 3/3 [00:01<00:00,  2.10it/s]\n",
            "Generating walks (CPU: 1): 100%|██████████| 3/3 [00:01<00:00,  1.97it/s]\n"
          ]
        }
      ],
      "source": [
        "node2vec_walker = Node2Vec(\n",
        "    G_reduced, \n",
        "    p=1.0, \n",
        "    q=1.0, \n",
        "    dimensions=128, \n",
        "    num_walks=10, \n",
        "    walk_length=80, \n",
        "    workers=multiprocessing.cpu_count())\n",
        "\n",
        "n2v_model = node2vec_walker.fit(window=10, min_count=1)"
      ]
    },
    {
      "cell_type": "markdown",
      "id": "4af2f338",
      "metadata": {
        "id": "4af2f338"
      },
      "source": [
        "### 4.2.\n",
        "Εφαρμόστε τον αλγόριθμο Random Forest Classifier, για να προβλέψετε τις συνδέσεις."
      ]
    },
    {
      "cell_type": "code",
      "execution_count": 19,
      "id": "b74e7aa7",
      "metadata": {
        "colab": {
          "base_uri": "https://localhost:8080/",
          "height": 75
        },
        "id": "b74e7aa7",
        "outputId": "5342b408-a694-4c7d-a34c-adabe3441fdd"
      },
      "outputs": [
        {
          "data": {
            "text/html": [
              "<style>#sk-container-id-2 {color: black;background-color: white;}#sk-container-id-2 pre{padding: 0;}#sk-container-id-2 div.sk-toggleable {background-color: white;}#sk-container-id-2 label.sk-toggleable__label {cursor: pointer;display: block;width: 100%;margin-bottom: 0;padding: 0.3em;box-sizing: border-box;text-align: center;}#sk-container-id-2 label.sk-toggleable__label-arrow:before {content: \"▸\";float: left;margin-right: 0.25em;color: #696969;}#sk-container-id-2 label.sk-toggleable__label-arrow:hover:before {color: black;}#sk-container-id-2 div.sk-estimator:hover label.sk-toggleable__label-arrow:before {color: black;}#sk-container-id-2 div.sk-toggleable__content {max-height: 0;max-width: 0;overflow: hidden;text-align: left;background-color: #f0f8ff;}#sk-container-id-2 div.sk-toggleable__content pre {margin: 0.2em;color: black;border-radius: 0.25em;background-color: #f0f8ff;}#sk-container-id-2 input.sk-toggleable__control:checked~div.sk-toggleable__content {max-height: 200px;max-width: 100%;overflow: auto;}#sk-container-id-2 input.sk-toggleable__control:checked~label.sk-toggleable__label-arrow:before {content: \"▾\";}#sk-container-id-2 div.sk-estimator input.sk-toggleable__control:checked~label.sk-toggleable__label {background-color: #d4ebff;}#sk-container-id-2 div.sk-label input.sk-toggleable__control:checked~label.sk-toggleable__label {background-color: #d4ebff;}#sk-container-id-2 input.sk-hidden--visually {border: 0;clip: rect(1px 1px 1px 1px);clip: rect(1px, 1px, 1px, 1px);height: 1px;margin: -1px;overflow: hidden;padding: 0;position: absolute;width: 1px;}#sk-container-id-2 div.sk-estimator {font-family: monospace;background-color: #f0f8ff;border: 1px dotted black;border-radius: 0.25em;box-sizing: border-box;margin-bottom: 0.5em;}#sk-container-id-2 div.sk-estimator:hover {background-color: #d4ebff;}#sk-container-id-2 div.sk-parallel-item::after {content: \"\";width: 100%;border-bottom: 1px solid gray;flex-grow: 1;}#sk-container-id-2 div.sk-label:hover label.sk-toggleable__label {background-color: #d4ebff;}#sk-container-id-2 div.sk-serial::before {content: \"\";position: absolute;border-left: 1px solid gray;box-sizing: border-box;top: 0;bottom: 0;left: 50%;z-index: 0;}#sk-container-id-2 div.sk-serial {display: flex;flex-direction: column;align-items: center;background-color: white;padding-right: 0.2em;padding-left: 0.2em;position: relative;}#sk-container-id-2 div.sk-item {position: relative;z-index: 1;}#sk-container-id-2 div.sk-parallel {display: flex;align-items: stretch;justify-content: center;background-color: white;position: relative;}#sk-container-id-2 div.sk-item::before, #sk-container-id-2 div.sk-parallel-item::before {content: \"\";position: absolute;border-left: 1px solid gray;box-sizing: border-box;top: 0;bottom: 0;left: 50%;z-index: -1;}#sk-container-id-2 div.sk-parallel-item {display: flex;flex-direction: column;z-index: 1;position: relative;background-color: white;}#sk-container-id-2 div.sk-parallel-item:first-child::after {align-self: flex-end;width: 50%;}#sk-container-id-2 div.sk-parallel-item:last-child::after {align-self: flex-start;width: 50%;}#sk-container-id-2 div.sk-parallel-item:only-child::after {width: 0;}#sk-container-id-2 div.sk-dashed-wrapped {border: 1px dashed gray;margin: 0 0.4em 0.5em 0.4em;box-sizing: border-box;padding-bottom: 0.4em;background-color: white;}#sk-container-id-2 div.sk-label label {font-family: monospace;font-weight: bold;display: inline-block;line-height: 1.2em;}#sk-container-id-2 div.sk-label-container {text-align: center;}#sk-container-id-2 div.sk-container {/* jupyter's `normalize.less` sets `[hidden] { display: none; }` but bootstrap.min.css set `[hidden] { display: none !important; }` so we also need the `!important` here to be able to override the default hidden behavior on the sphinx rendered scikit-learn.org. See: https://github.com/scikit-learn/scikit-learn/issues/21755 */display: inline-block !important;position: relative;}#sk-container-id-2 div.sk-text-repr-fallback {display: none;}</style><div id=\"sk-container-id-2\" class=\"sk-top-container\"><div class=\"sk-text-repr-fallback\"><pre>RandomForestClassifier(max_depth=2, random_state=0)</pre><b>In a Jupyter environment, please rerun this cell to show the HTML representation or trust the notebook. <br />On GitHub, the HTML representation is unable to render, please try loading this page with nbviewer.org.</b></div><div class=\"sk-container\" hidden><div class=\"sk-item\"><div class=\"sk-estimator sk-toggleable\"><input class=\"sk-toggleable__control sk-hidden--visually\" id=\"sk-estimator-id-4\" type=\"checkbox\" checked><label for=\"sk-estimator-id-4\" class=\"sk-toggleable__label sk-toggleable__label-arrow\">RandomForestClassifier</label><div class=\"sk-toggleable__content\"><pre>RandomForestClassifier(max_depth=2, random_state=0)</pre></div></div></div></div></div>"
            ],
            "text/plain": [
              "RandomForestClassifier(max_depth=2, random_state=0)"
            ]
          },
          "execution_count": 19,
          "metadata": {},
          "output_type": "execute_result"
        }
      ],
      "source": [
        "X = [(n2v_model.wv[str(i)] + n2v_model.wv[str(j)]) for i, j in df['edge']]\n",
        "\n",
        "X_train, X_test, y_train, y_test = train_test_split(X, y, random_state=0)\n",
        "\n",
        "classifier = RandomForestClassifier(max_depth=2, random_state=0)\n",
        "classifier.fit(X_train, y_train)"
      ]
    },
    {
      "cell_type": "markdown",
      "id": "294f0aab",
      "metadata": {
        "id": "294f0aab"
      },
      "source": [
        "### 4.3.\n",
        "Υπολογίστε την ακρίβεια ($accuracy$) του μοντέλου."
      ]
    },
    {
      "cell_type": "code",
      "execution_count": 20,
      "id": "aaaba583",
      "metadata": {
        "colab": {
          "base_uri": "https://localhost:8080/"
        },
        "id": "aaaba583",
        "outputId": "48eee737-52b4-4bdd-e410-3c9aba776d00"
      },
      "outputs": [
        {
          "name": "stdout",
          "output_type": "stream",
          "text": [
            "- Accuracy: 0.9994776931447226\n"
          ]
        }
      ],
      "source": [
        "y_pred = classifier.predict(X_test)\n",
        "print(f\"- Accuracy: {accuracy_score(y_test, y_pred)}\")"
      ]
    },
    {
      "cell_type": "markdown",
      "id": "45e5f4cf",
      "metadata": {
        "id": "45e5f4cf"
      },
      "source": [
        "### Bonus Question (+10/100)\n",
        "Για τους binary operators για learning των edge features με τον αλγόριθμο Node2Vec που αναφέρονται στο [[3]](https://cs.stanford.edu/~jure/pubs/node2vec-kdd16.pdf), δηλαδή τους (a) Average, (b) Hadamard, (c) Weighted-L1 και (d) Weighted-L2 τροποποιήστε τoν κώδικά σας και σημειώστε τις παρατηρήσεις σας ως προς την απόδοση του αλγορίθμου."
      ]
    },
    {
      "cell_type": "code",
      "execution_count": 21,
      "id": "1785dc1a",
      "metadata": {
        "colab": {
          "base_uri": "https://localhost:8080/"
        },
        "id": "1785dc1a",
        "outputId": "8c240f01-8c56-4028-9885-34cff62719ca"
      },
      "outputs": [
        {
          "name": "stdout",
          "output_type": "stream",
          "text": [
            "- Accuracy for Average operator: 0.9994776931447226\n",
            "- Accuracy for Hadamard operator: 0.9994341675734494\n",
            "- Accuracy for Weighted-L1 operator: 0.9994341675734494\n",
            "- Accuracy for Weighted-L2 operator: 0.9994341675734494\n"
          ]
        }
      ],
      "source": [
        "X_average = [(n2v_model.wv[str(i)] + n2v_model.wv[str(j)]) / 2 for i, j in df['edge']]\n",
        "X_hadamard = [(n2v_model.wv[str(i)] * n2v_model.wv[str(j)]) for i, j in df['edge']]\n",
        "X_l1 = [np.abs(n2v_model.wv[str(i)] - n2v_model.wv[str(j)]) for i, j in df['edge']]\n",
        "X_l2 = [(n2v_model.wv[str(i)] - n2v_model.wv[str(j)]) ** 2 for i, j in df['edge']]\n",
        "\n",
        "accuracies = []\n",
        "\n",
        "for x in [X_average, X_hadamard, X_l1, X_l2]:\n",
        "    X_train, X_test, y_train, y_test = train_test_split(x, y, random_state=0)\n",
        "    classifier = RandomForestClassifier(max_depth=2, random_state=0)\n",
        "    classifier.fit(X_train, y_train)\n",
        "    y_pred = classifier.predict(X_test)\n",
        "    accuracies.append(accuracy_score(y_test, y_pred))\n",
        "\n",
        "operators = ['Average', 'Hadamard', 'Weighted-L1', 'Weighted-L2']\n",
        "for operator, accuracy in zip(operators, accuracies):\n",
        "    print(f\"- Accuracy for {operator} operator: {accuracy}\")"
      ]
    },
    {
      "attachments": {},
      "cell_type": "markdown",
      "id": "CYyc6Jzn2Xw2",
      "metadata": {
        "id": "CYyc6Jzn2Xw2"
      },
      "source": [
        "We can see that the accuracy of the algorithm stays the same and is almost perfect, with a value of 99.94%, no matter the operator used. Furthermore, this accuracy is the same as the one achieved by the given operator (simple addition)."
      ]
    },
    {
      "cell_type": "markdown",
      "id": "8da3a402",
      "metadata": {
        "id": "8da3a402"
      },
      "source": [
        "## Βιβλιογραφία\n",
        "[[1]Jérôme Kunegis. KONECT – The Koblenz Network Collection. In Proc. Int. Conf. on World Wide Web Companion, pages 1343–1350, 2013.](https://dl.acm.org/doi/10.1145/2487788.2488173)\n",
        "\n",
        "[[2]Sören Auer, Christian Bizer, Georgi Kobilarov, Jens Lehmann, Richard Cyganiak, and Zachary Ives. DBpedia: A nucleus for a web of open data. In Proc. Int. Semant. Web Conf., pages 722–735, 2008.](https://link.springer.com/chapter/10.1007/978-3-540-76298-0_52)\n",
        "\n",
        "[[3]A. Grover, J. Leskovec, Node2vec: Scalable Feature Learning for Networks. ACM KDD, 2016.](https://cs.stanford.edu/~jure/pubs/node2vec-kdd16.pdf)\n",
        "\n",
        "[[4]T.Mikolov, I.Sutskever, K.Chen, G.S.Corrado and J.Dean, Distributed representations of words and phrases and their compositionality. In NIPS, 2013.](https://proceedings.neurips.cc/paper/2013/file/9aa42b31882ec039965f3c4923ce901b-Paper.pdf)"
      ]
    }
  ],
  "metadata": {
    "colab": {
      "provenance": []
    },
    "kernelspec": {
      "display_name": "Python 3",
      "language": "python",
      "name": "python3"
    },
    "language_info": {
      "codemirror_mode": {
        "name": "ipython",
        "version": 3
      },
      "file_extension": ".py",
      "mimetype": "text/x-python",
      "name": "python",
      "nbconvert_exporter": "python",
      "pygments_lexer": "ipython3",
      "version": "3.10.9"
    },
    "vscode": {
      "interpreter": {
        "hash": "916dbcbb3f70747c44a77c7bcd40155683ae19c65e1c03b4aa3499c5328201f1"
      }
    },
    "widgets": {
      "application/vnd.jupyter.widget-state+json": {
        "049535b76e6f44adb4a14fecb8bf8420": {
          "model_module": "@jupyter-widgets/controls",
          "model_module_version": "1.5.0",
          "model_name": "DescriptionStyleModel",
          "state": {
            "_model_module": "@jupyter-widgets/controls",
            "_model_module_version": "1.5.0",
            "_model_name": "DescriptionStyleModel",
            "_view_count": null,
            "_view_module": "@jupyter-widgets/base",
            "_view_module_version": "1.2.0",
            "_view_name": "StyleView",
            "description_width": ""
          }
        },
        "30a941629b38479791d74454cb9adf69": {
          "model_module": "@jupyter-widgets/controls",
          "model_module_version": "1.5.0",
          "model_name": "HBoxModel",
          "state": {
            "_dom_classes": [],
            "_model_module": "@jupyter-widgets/controls",
            "_model_module_version": "1.5.0",
            "_model_name": "HBoxModel",
            "_view_count": null,
            "_view_module": "@jupyter-widgets/controls",
            "_view_module_version": "1.5.0",
            "_view_name": "HBoxView",
            "box_style": "",
            "children": [
              "IPY_MODEL_8a4fd8d1fb784afdbd4b5c902d968956",
              "IPY_MODEL_93cac23e578c4b34824b877618eed3c3",
              "IPY_MODEL_6438f19ae3bb4399a54e5cd5b1db09c8"
            ],
            "layout": "IPY_MODEL_55411d8807cb4ffa83e8bb2358a5fb94"
          }
        },
        "55411d8807cb4ffa83e8bb2358a5fb94": {
          "model_module": "@jupyter-widgets/base",
          "model_module_version": "1.2.0",
          "model_name": "LayoutModel",
          "state": {
            "_model_module": "@jupyter-widgets/base",
            "_model_module_version": "1.2.0",
            "_model_name": "LayoutModel",
            "_view_count": null,
            "_view_module": "@jupyter-widgets/base",
            "_view_module_version": "1.2.0",
            "_view_name": "LayoutView",
            "align_content": null,
            "align_items": null,
            "align_self": null,
            "border": null,
            "bottom": null,
            "display": null,
            "flex": null,
            "flex_flow": null,
            "grid_area": null,
            "grid_auto_columns": null,
            "grid_auto_flow": null,
            "grid_auto_rows": null,
            "grid_column": null,
            "grid_gap": null,
            "grid_row": null,
            "grid_template_areas": null,
            "grid_template_columns": null,
            "grid_template_rows": null,
            "height": null,
            "justify_content": null,
            "justify_items": null,
            "left": null,
            "margin": null,
            "max_height": null,
            "max_width": null,
            "min_height": null,
            "min_width": null,
            "object_fit": null,
            "object_position": null,
            "order": null,
            "overflow": null,
            "overflow_x": null,
            "overflow_y": null,
            "padding": null,
            "right": null,
            "top": null,
            "visibility": null,
            "width": null
          }
        },
        "6438f19ae3bb4399a54e5cd5b1db09c8": {
          "model_module": "@jupyter-widgets/controls",
          "model_module_version": "1.5.0",
          "model_name": "HTMLModel",
          "state": {
            "_dom_classes": [],
            "_model_module": "@jupyter-widgets/controls",
            "_model_module_version": "1.5.0",
            "_model_name": "HTMLModel",
            "_view_count": null,
            "_view_module": "@jupyter-widgets/controls",
            "_view_module_version": "1.5.0",
            "_view_name": "HTMLView",
            "description": "",
            "description_tooltip": null,
            "layout": "IPY_MODEL_ce2508239e3e4ff998c9014f62a8267e",
            "placeholder": "​",
            "style": "IPY_MODEL_7fdb761fc5c14f478aecf7004273171e",
            "value": " 430/430 [00:00&lt;00:00, 7683.38it/s]"
          }
        },
        "6c7110f03ce84f98bd833e348751ae72": {
          "model_module": "@jupyter-widgets/base",
          "model_module_version": "1.2.0",
          "model_name": "LayoutModel",
          "state": {
            "_model_module": "@jupyter-widgets/base",
            "_model_module_version": "1.2.0",
            "_model_name": "LayoutModel",
            "_view_count": null,
            "_view_module": "@jupyter-widgets/base",
            "_view_module_version": "1.2.0",
            "_view_name": "LayoutView",
            "align_content": null,
            "align_items": null,
            "align_self": null,
            "border": null,
            "bottom": null,
            "display": null,
            "flex": null,
            "flex_flow": null,
            "grid_area": null,
            "grid_auto_columns": null,
            "grid_auto_flow": null,
            "grid_auto_rows": null,
            "grid_column": null,
            "grid_gap": null,
            "grid_row": null,
            "grid_template_areas": null,
            "grid_template_columns": null,
            "grid_template_rows": null,
            "height": null,
            "justify_content": null,
            "justify_items": null,
            "left": null,
            "margin": null,
            "max_height": null,
            "max_width": null,
            "min_height": null,
            "min_width": null,
            "object_fit": null,
            "object_position": null,
            "order": null,
            "overflow": null,
            "overflow_x": null,
            "overflow_y": null,
            "padding": null,
            "right": null,
            "top": null,
            "visibility": null,
            "width": null
          }
        },
        "7fdb761fc5c14f478aecf7004273171e": {
          "model_module": "@jupyter-widgets/controls",
          "model_module_version": "1.5.0",
          "model_name": "DescriptionStyleModel",
          "state": {
            "_model_module": "@jupyter-widgets/controls",
            "_model_module_version": "1.5.0",
            "_model_name": "DescriptionStyleModel",
            "_view_count": null,
            "_view_module": "@jupyter-widgets/base",
            "_view_module_version": "1.2.0",
            "_view_name": "StyleView",
            "description_width": ""
          }
        },
        "84aef8877f5d4cbb9230241a5cfe782e": {
          "model_module": "@jupyter-widgets/base",
          "model_module_version": "1.2.0",
          "model_name": "LayoutModel",
          "state": {
            "_model_module": "@jupyter-widgets/base",
            "_model_module_version": "1.2.0",
            "_model_name": "LayoutModel",
            "_view_count": null,
            "_view_module": "@jupyter-widgets/base",
            "_view_module_version": "1.2.0",
            "_view_name": "LayoutView",
            "align_content": null,
            "align_items": null,
            "align_self": null,
            "border": null,
            "bottom": null,
            "display": null,
            "flex": null,
            "flex_flow": null,
            "grid_area": null,
            "grid_auto_columns": null,
            "grid_auto_flow": null,
            "grid_auto_rows": null,
            "grid_column": null,
            "grid_gap": null,
            "grid_row": null,
            "grid_template_areas": null,
            "grid_template_columns": null,
            "grid_template_rows": null,
            "height": null,
            "justify_content": null,
            "justify_items": null,
            "left": null,
            "margin": null,
            "max_height": null,
            "max_width": null,
            "min_height": null,
            "min_width": null,
            "object_fit": null,
            "object_position": null,
            "order": null,
            "overflow": null,
            "overflow_x": null,
            "overflow_y": null,
            "padding": null,
            "right": null,
            "top": null,
            "visibility": null,
            "width": null
          }
        },
        "8a4fd8d1fb784afdbd4b5c902d968956": {
          "model_module": "@jupyter-widgets/controls",
          "model_module_version": "1.5.0",
          "model_name": "HTMLModel",
          "state": {
            "_dom_classes": [],
            "_model_module": "@jupyter-widgets/controls",
            "_model_module_version": "1.5.0",
            "_model_name": "HTMLModel",
            "_view_count": null,
            "_view_module": "@jupyter-widgets/controls",
            "_view_module_version": "1.5.0",
            "_view_name": "HTMLView",
            "description": "",
            "description_tooltip": null,
            "layout": "IPY_MODEL_84aef8877f5d4cbb9230241a5cfe782e",
            "placeholder": "​",
            "style": "IPY_MODEL_049535b76e6f44adb4a14fecb8bf8420",
            "value": "Computing transition probabilities: 100%"
          }
        },
        "93cac23e578c4b34824b877618eed3c3": {
          "model_module": "@jupyter-widgets/controls",
          "model_module_version": "1.5.0",
          "model_name": "FloatProgressModel",
          "state": {
            "_dom_classes": [],
            "_model_module": "@jupyter-widgets/controls",
            "_model_module_version": "1.5.0",
            "_model_name": "FloatProgressModel",
            "_view_count": null,
            "_view_module": "@jupyter-widgets/controls",
            "_view_module_version": "1.5.0",
            "_view_name": "ProgressView",
            "bar_style": "success",
            "description": "",
            "description_tooltip": null,
            "layout": "IPY_MODEL_6c7110f03ce84f98bd833e348751ae72",
            "max": 430,
            "min": 0,
            "orientation": "horizontal",
            "style": "IPY_MODEL_c55572a7e5674195a19efbd6ca9632bd",
            "value": 430
          }
        },
        "c55572a7e5674195a19efbd6ca9632bd": {
          "model_module": "@jupyter-widgets/controls",
          "model_module_version": "1.5.0",
          "model_name": "ProgressStyleModel",
          "state": {
            "_model_module": "@jupyter-widgets/controls",
            "_model_module_version": "1.5.0",
            "_model_name": "ProgressStyleModel",
            "_view_count": null,
            "_view_module": "@jupyter-widgets/base",
            "_view_module_version": "1.2.0",
            "_view_name": "StyleView",
            "bar_color": null,
            "description_width": ""
          }
        },
        "ce2508239e3e4ff998c9014f62a8267e": {
          "model_module": "@jupyter-widgets/base",
          "model_module_version": "1.2.0",
          "model_name": "LayoutModel",
          "state": {
            "_model_module": "@jupyter-widgets/base",
            "_model_module_version": "1.2.0",
            "_model_name": "LayoutModel",
            "_view_count": null,
            "_view_module": "@jupyter-widgets/base",
            "_view_module_version": "1.2.0",
            "_view_name": "LayoutView",
            "align_content": null,
            "align_items": null,
            "align_self": null,
            "border": null,
            "bottom": null,
            "display": null,
            "flex": null,
            "flex_flow": null,
            "grid_area": null,
            "grid_auto_columns": null,
            "grid_auto_flow": null,
            "grid_auto_rows": null,
            "grid_column": null,
            "grid_gap": null,
            "grid_row": null,
            "grid_template_areas": null,
            "grid_template_columns": null,
            "grid_template_rows": null,
            "height": null,
            "justify_content": null,
            "justify_items": null,
            "left": null,
            "margin": null,
            "max_height": null,
            "max_width": null,
            "min_height": null,
            "min_width": null,
            "object_fit": null,
            "object_position": null,
            "order": null,
            "overflow": null,
            "overflow_x": null,
            "overflow_y": null,
            "padding": null,
            "right": null,
            "top": null,
            "visibility": null,
            "width": null
          }
        }
      }
    }
  },
  "nbformat": 4,
  "nbformat_minor": 5
}
