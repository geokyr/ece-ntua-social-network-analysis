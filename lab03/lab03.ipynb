{
 "cells": [
  {
   "attachments": {},
   "cell_type": "markdown",
   "id": "1f35580e",
   "metadata": {},
   "source": [
    "# 3η Εργαστηριακή Άσκηση\n",
    "# Link prediction - Πρόβλεψη συνδέσμων"
   ]
  },
  {
   "attachments": {},
   "cell_type": "markdown",
   "id": "525b78a3",
   "metadata": {},
   "source": [
    "## Imports"
   ]
  },
  {
   "cell_type": "code",
   "execution_count": 1,
   "id": "98d1ae7d",
   "metadata": {},
   "outputs": [],
   "source": [
    "import numpy as np\n",
    "import pandas as pd\n",
    "import networkx as nx\n",
    "import matplotlib.pyplot as plt"
   ]
  },
  {
   "attachments": {},
   "cell_type": "markdown",
   "id": "a47be716",
   "metadata": {},
   "source": [
    "## 1. Κατασκευή γράφου και προεργασία για την πρόβλεψη συνδέσμων"
   ]
  },
  {
   "attachments": {},
   "cell_type": "markdown",
   "id": "b30af479",
   "metadata": {},
   "source": [
    "### 1.1.\n",
    "Χρησιμοποιήστε το dataset [Similarities (DBpedia)](http://konect.cc/networks/dbpedia-similar/) για να κατασκευάσετε τον μη κατευθυνόμενο (undirected) γράφο $G$ [[1]](https://dl.acm.org/doi/10.1145/2487788.2488173)[[2]](https://link.springer.com/chapter/10.1007/978-3-540-76298-0_52). Οι κόμβοι του γράφου αναπαριστούν σελίδες της Wikipedia και οι ακμές σχέση ομοιότητας μεταξύ τους. Στην σελίδα [KONECT (DBpedia)](http://konect.cc/networks/dbpedia-similar/) μπορείτε να βρείτε πληροφορίες για τις ιδιότητες του γράφου.\n",
    "\n",
    "***Υπόδειξη:***\n",
    "Μπορείτε να ελέγξετε προγραμματιστικά αν το dataset περιέχει διπλότυπα των ακμών με την ίδια ή αντίστροφη σειρά (π.χ. ακμές (a,b) και (b,a)), και να λάβετε υπ' όψιν σας αυτήν σας την παρατήρηση, όπου τυχόν χρειαστεί, στην ερώτηση 2."
   ]
  },
  {
   "cell_type": "code",
   "execution_count": 2,
   "id": "5ca93797",
   "metadata": {},
   "outputs": [],
   "source": [
    "!wget -q http://konect.cc/files/download.tsv.dbpedia-similar.tar.bz2 -P resources\n",
    "!tar -xf resources/download.tsv.dbpedia-similar.tar.bz2 -C resources\n",
    "!mv resources/dbpedia-similar/out.dbpedia-similar resources\n",
    "!rm -r resources/dbpedia-similar\n",
    "!rm resources/download.tsv.dbpedia-similar.tar.bz2\n",
    "\n",
    "# remove first two lines of the file\n",
    "!sed -i '1,2d' resources/out.dbpedia-similar"
   ]
  },
  {
   "cell_type": "code",
   "execution_count": 3,
   "id": "604316ef",
   "metadata": {},
   "outputs": [
    {
     "name": "stdout",
     "output_type": "stream",
     "text": [
      "There are no duplicate edges\n",
      "Graph with 430 nodes and 564 edges\n"
     ]
    }
   ],
   "source": [
    "edges = set()\n",
    "duplicates = set()\n",
    "\n",
    "with open('resources/out.dbpedia-similar', 'r') as f:\n",
    "    for line in f:\n",
    "        from_node, to_node = map(int, line.split())\n",
    "        edge = tuple(sorted((from_node, to_node)))\n",
    "        if edge in edges:\n",
    "            duplicates.add(edge)\n",
    "        else:\n",
    "            edges.add(edge)\n",
    "\n",
    "if not duplicates:\n",
    "    print(f\"There are no duplicate edges\")\n",
    "else:\n",
    "    print(f\"The following are duplicate edges: {duplicates}\")\n",
    "\n",
    "G = nx.read_edgelist('resources/out.dbpedia-similar', create_using=nx.Graph())\n",
    "G.remove_edges_from(nx.selfloop_edges(G))\n",
    "print(G)"
   ]
  },
  {
   "attachments": {},
   "cell_type": "markdown",
   "id": "4bd79bac",
   "metadata": {},
   "source": [
    "### 1.2.\n",
    "Εμφανίστε τον αριθμό των κόμβων, τον αριθμό των ακμών, τον μέσο βαθμό των κόμβων και τον αριθμό των συνεκτικών συνιστωσών (connected components) για τον γράφο $G$."
   ]
  },
  {
   "cell_type": "code",
   "execution_count": 4,
   "id": "9277a4e2",
   "metadata": {},
   "outputs": [
    {
     "name": "stdout",
     "output_type": "stream",
     "text": [
      "- Initial graph stats\n",
      "Nodes count: 430\n",
      "Edges count: 564\n",
      "Average degree: 2.6232558139534885\n",
      "Connected components count: 95\n"
     ]
    }
   ],
   "source": [
    "def get_graph_stats(G):\n",
    "    nodes_count = G.number_of_nodes()\n",
    "    edges_count = G.number_of_edges()\n",
    "    average_degree = 2 * edges_count / nodes_count\n",
    "    connected_components_count = nx.number_connected_components(G)\n",
    "\n",
    "    print(f\"Nodes count: {nodes_count}\")\n",
    "    print(f\"Edges count: {edges_count}\")\n",
    "    print(f\"Average degree: {average_degree}\")\n",
    "    print(f\"Connected components count: {connected_components_count}\")\n",
    "    \n",
    "    return nodes_count, edges_count, average_degree, connected_components_count\n",
    "\n",
    "print(f\"- Initial graph stats\")\n",
    "initial_nodes_count, initial_edges_count, initial_average_degree, initial_connected_components_count = get_graph_stats(G)"
   ]
  },
  {
   "attachments": {},
   "cell_type": "markdown",
   "id": "bf03f6b9",
   "metadata": {},
   "source": [
    "### 1.3.\n",
    "Υπολογίστε το σύνολο των ασύνδετων ζευγών κόμβων (unconnected pairs) στον γράφο χρησιμοποιώντας τον πίνακα γειτνίασης (adjacency matrix). Δώστε επίσης τον αριθμό τους. Λάβετε υπ' όψιν σας ότι ο γράφος είναι μη κατευθυνόμενος και δεν χρειάζεται να διατρέξετε ολόκληρο τον πίνακα γειτνίασης."
   ]
  },
  {
   "cell_type": "code",
   "execution_count": 5,
   "id": "a7066d83",
   "metadata": {},
   "outputs": [
    {
     "name": "stdout",
     "output_type": "stream",
     "text": [
      "Unconnected pairs count: 91671\n"
     ]
    }
   ],
   "source": [
    "adjacency_matrix = nx.to_numpy_matrix(G)\n",
    "unconnected_pairs = []\n",
    "\n",
    "for i in range(adjacency_matrix.shape[0]):\n",
    "    for j in range(i + 1, adjacency_matrix.shape[1]):\n",
    "        if adjacency_matrix[i, j] == 0:\n",
    "            unconnected_pairs.append((i, j))\n",
    "\n",
    "print(f\"Unconnected pairs count: {len(unconnected_pairs)}\")"
   ]
  },
  {
   "attachments": {},
   "cell_type": "markdown",
   "id": "154c2a8d",
   "metadata": {},
   "source": [
    "### 1.4.\n",
    "Υπολογίστε το σύνολο των ακμών (removable edges) που μπορούν να αφαιρεθούν από τον γράφο χωρίς να υπάρχει κατάτμηση (splitting) του γράφου (δηλ. ο αριθμός των συνεκτικών συνιστωσών θα πρέπει να παραμένει αμετάβλητος). Υπόδειξη: Ελέγχετε επίσης ότι με αφαίρεση ακμής δεν μειώνεται ο αριθμός των κόμβων (εφόσον δεν υπάρχει ξεχωριστό αρχείο μόνο με κόμβους στο dataset). Δώστε επίσης τον αριθμό των ακμών (removable edges) που μπορούν να αφαιρεθούν υπό αυτές τις προϋποθέσεις."
   ]
  },
  {
   "cell_type": "code",
   "execution_count": 6,
   "id": "b39c2241",
   "metadata": {},
   "outputs": [
    {
     "name": "stdout",
     "output_type": "stream",
     "text": [
      "Removable edges count: 229\n"
     ]
    }
   ],
   "source": [
    "copy = G.copy()\n",
    "removable_edges = []\n",
    "\n",
    "for edge in G.edges():\n",
    "    copy.remove_edge(*edge)\n",
    "    if nx.number_connected_components(copy) == initial_connected_components_count and copy.number_of_nodes() == initial_nodes_count:\n",
    "        removable_edges.append(edge)\n",
    "    else:\n",
    "        copy.add_edge(*edge)\n",
    "\n",
    "print(f\"Removable edges count: {len(removable_edges)}\")"
   ]
  },
  {
   "attachments": {},
   "cell_type": "markdown",
   "id": "eb03d745",
   "metadata": {},
   "source": [
    "### 1.5.\n",
    "a. Κατασκευάστε dataframe που συνενώνει τις απαντήσεις των ερωτημάτων 1.3 και 1.4 (unconnected+removables). Χρησιμοποιήστε την μεταβλητή $link$ που θα παίρνει τιμή 1 ή 0 ανάλογα με την ύπαρξη συνδέσμου ή μη. To dataframe αυτό συγκεντρώνει τα θετικά και αρνητικά δείγματα για την πρόβλεψη των μελλοντικών συνδέσεων (link: target variable).\n",
    "\n",
    "b. Κατασκευάστε τον γράφο $G'$ που προκύπτει από την αφαίρεση από τον γράφο $G$ των ακμών του ερωτήματος 1.4.\n",
    "\n",
    "c. Εμφανίστε τον αριθμό των κόμβων, τον αριθμό των ακμών, τον μέσο βαθμό των κόμβων και τον αριθμό των συνεκτικών συνιστωσών (connected components) για τον γράφο $G'$."
   ]
  },
  {
   "cell_type": "code",
   "execution_count": 7,
   "id": "cb033fc0",
   "metadata": {},
   "outputs": [
    {
     "name": "stdout",
     "output_type": "stream",
     "text": [
      "- Reduced graph stats\n",
      "Nodes count: 430\n",
      "Edges count: 335\n",
      "Average degree: 1.558139534883721\n",
      "Connected components count: 95\n"
     ]
    }
   ],
   "source": [
    "df_unconnected_pairs = pd.DataFrame(unconnected_pairs, columns=['from', 'to'])\n",
    "df_unconnected_pairs['link'] = 0\n",
    "\n",
    "df_removable_edges = pd.DataFrame(removable_edges, columns=['from', 'to'])\n",
    "df_removable_edges['link'] = 1\n",
    "\n",
    "df = pd.concat([df_unconnected_pairs, df_removable_edges], ignore_index=True)\n",
    "\n",
    "G_reduced = G.copy()\n",
    "G_reduced.remove_edges_from(removable_edges)\n",
    "\n",
    "print(f\"- Reduced graph stats\")\n",
    "reduced_nodes_count, reduced_edges_count, reduced_average_degree, reduced_connected_components_count = get_graph_stats(G_reduced)"
   ]
  },
  {
   "attachments": {},
   "cell_type": "markdown",
   "id": "bedca856",
   "metadata": {},
   "source": [
    "## 2. Εισαγωγή σε similarity-based μετρικές για Link prediction\n",
    "\n",
    "* Η μετρική **Jaccard Coefficient (JC)** των κόμβων ${u}$ και ${v}$ ορίζεται ως $\\frac{|\\Gamma(u) \\cap \\Gamma(v)|}{|\\Gamma(u) \\cup \\Gamma(v)|}$, όπου ${\\Gamma(u)}$ είναι το σύνολο των γειτονικών κόμβων του κόμβου ${u}$.\n",
    "\n",
    "* Η μετρική **Preferential Αttachment (PA)** των κόμβων $u$ και $v$ ορίζεται ως $|\\Gamma(u)| |\\Gamma(v)|$, όπου $\\Gamma(u)$ είναι το σύνολο των γειτονικών κόμβων του $u$.\n",
    "\n",
    "* Η μετρική **Resource Allocation (RA)** των κόμβων $u$ και $v$ ορίζεται ως $\\sum_{w \\in \\Gamma(u) \\cap \\Gamma(v)} \\frac{1}{|\\Gamma(w)|}$, όπου $\\Gamma(u)$ είναι το σύνολο των γειτονικών κόμβων του $u$."
   ]
  },
  {
   "attachments": {},
   "cell_type": "markdown",
   "id": "e940fd5f",
   "metadata": {},
   "source": [
    "### 2.1.\n",
    "Για τον γράφο $G'$, που κατασκευάσατε στο ερώτημα 1.5.b, υπολογίστε την μετρική **Jaccard Coefficient (JC)**. [Χρησιμοποιήστε την υλοποιημένη συνάρτηση του λογισμικού NetworkX](https://networkx.org/documentation/stable/reference/algorithms/link_prediction.html?highlight=link%20prediction)."
   ]
  },
  {
   "cell_type": "code",
   "execution_count": 8,
   "id": "def59d2a",
   "metadata": {},
   "outputs": [],
   "source": [
    "jaccard_cofficients = nx.jaccard_coefficient(G_reduced)"
   ]
  },
  {
   "attachments": {},
   "cell_type": "markdown",
   "id": "8710bc5a",
   "metadata": {},
   "source": [
    "### 2.2.\n",
    "Δώστε τις $k$ ακμές με την υψηλότερη τιμή μετρικής $JC$, όπου $k$ ο $Α.Μ.$ σας $mod$ $10$. Για $Α.Μ.$ λήγοντα σε $0$ δώστε τις $10$ ακμές με την υψηλότερη τιμή μετρικής.\n",
    "Για την σύγκριση μεταξύ διαφορετικών μετρικών προτιμάται η εύρεση των $k$ επικρατέστερων συνδέσμων, αφού οι μετρικές επιστρέφουν διαφορετικό εύρος τιμών."
   ]
  },
  {
   "cell_type": "code",
   "execution_count": 9,
   "id": "7d9d3b81",
   "metadata": {},
   "outputs": [
    {
     "name": "stdout",
     "output_type": "stream",
     "text": [
      "- Top 3 edges with best Jaccard Coefficients:\n",
      "#1: Edge from node 335 to node 344 with a Jaccard Coefficient of 1.0\n",
      "#2: Edge from node 335 to node 343 with a Jaccard Coefficient of 1.0\n",
      "#3: Edge from node 335 to node 337 with a Jaccard Coefficient of 1.0\n"
     ]
    }
   ],
   "source": [
    "k = 18153 % 10\n",
    "sorted_jc = sorted(jaccard_cofficients, key=lambda x: x[2], reverse=True)\n",
    "k_best = sorted_jc[:k]\n",
    "\n",
    "print(f\"- Top {k} edges with best Jaccard Coefficients:\")\n",
    "for index, triple in enumerate(k_best):\n",
    "    from_node, to_node, jc = triple\n",
    "    print(f\"#{index+1}: Edge from node {from_node} to node {to_node} with a Jaccard Coefficient of {jc}\")"
   ]
  },
  {
   "attachments": {},
   "cell_type": "markdown",
   "id": "4f52b6c3",
   "metadata": {},
   "source": [
    "### 2.3.\n",
    "Προσδιορίστε για την μέτρηση της απόδοσης της μετρικής $JC$ τα μεγέθη $Precision$, $Recall$ και $Accuracy$ και αναπαραστήστε τα γραφικά για τιμές κατωφλίου: $0.1$, $0.15$, $0.25$, $0.5$, $1.0$.\n",
    "\n",
    "$Precision=\\frac{TP}{TP+FP}$, όπου $TP$: αληθώς θετικά αποτελέσματα, $FP$: ψευδώς θετικά αποτελέσματα\n",
    "\n",
    "$Recall=\\frac{TP}{TP+FN}$, όπου $TP$: αληθώς θετικά αποτελέσματα, $FN$: ψευδώς αρνητικά αποτελέσματα\n",
    "\n",
    "$Accuracy=\\frac{TP+TN}{TP+FN+TN+FP}$, όπου $TP$: αληθώς θετικά αποτελέσματα, $TN$: αληθώς αρνητικά αποτελέσματα, $FN$: ψευδώς αρνητικά αποτελέσματα, $FP$: ψευδώς θετικά αποτελέσματα\n",
    "\n",
    "***Υπόδειξη:***\n",
    "* Θετικό θεωρήστε ένα αποτέλεσμα, αν η μετρική $JC$ υπερβαίνει μια τιμή κατωφλίου (>=). Αρνητικό θεωρήστε το στην αντίθετη περίπτωση.\n",
    "* Αληθώς θετικά είναι τα αποτελέσματα που βγήκαν θετικά (η τιμή της $JC$ υπερβαίνει την τιμή κατωφλίου) και πράγματι θα υπάρξουν οι συνδέσεις που περιγράφουν (ερ. 1.4).\n",
    "* Αληθώς αρνητικά είναι τα αποτελέσματα που βγήκαν αρνητικά και πράγματι δεν θα υπάρξουν οι συνδέσεις που περιγράφουν (ερ. 1.3).\n",
    "* Ψευδώς θετικά είναι τα αποτελέσματα που βγήκαν θετικά, ενώ δεν θα υπάρξουν οι συνδέσεις που περιγράφουν.\n",
    "* Ψευδώς αρνητικά είναι τα αποτελέσματα που βγήκαν αρνητικά, ενώ θα υπάρξουν οι συνδέσεις που περιγράφουν.\n",
    "* Το άθροισμα $TN+FP$ πρέπει κάθε φορά να σας δίνει όλες τις ασύνδετες ακμές του γράφου $G$.\n",
    "* Από το ερώτημα 1.3 οι ακμές που υπολογίσατε είναι αυτές για τις οποίες δεν θα υπάρξουν συνδέσεις.\n",
    "* Από το ερώτημα 1.4 οι ακμές που υπολογίσατε είναι αυτές για τις οποίες θα υπάρξουν συνδέσεις."
   ]
  },
  {
   "cell_type": "code",
   "execution_count": 11,
   "id": "d8b0d5fd",
   "metadata": {},
   "outputs": [],
   "source": [
    "thresholds = [0.1, 0.15, 0.25, 0.5, 1.0]\n",
    "\n",
    "def metrics(threshold):\n",
    "    TP, FP, FN, TN = 0, 0, 0, 0\n",
    "    \n",
    "    for edge in sorted_jc:\n",
    "        from_node, to_node, jc = edge\n",
    "\n",
    "        if jc >= threshold:\n",
    "            if (from_node, to_node) in removable_edges:\n",
    "                TP += 1\n",
    "            elif (from_node, to_node) in unconnected_pairs:\n",
    "                FP += 1\n",
    "\n",
    "        else:\n",
    "            if (from_node, to_node) in removable_edges:\n",
    "                FN += 1\n",
    "            elif (from_node, to_node) in unconnected_pairs:\n",
    "                TN += 1\n",
    "    \n",
    "    precision = TP / (TP + FP)\n",
    "    recall = TP / (TP + FN)\n",
    "    accuracy = (TP + TN) / (TP + FP + FN + TN)\n",
    "\n",
    "    return precision, recall, accuracy\n",
    "\n",
    "precisions, recalls, accuracies = [], [], []\n",
    "\n",
    "for threshold in thresholds:\n",
    "    precision, recall, accuracy = metrics(threshold)\n",
    "    precisions.append(precision)\n",
    "    recalls.append(recall)\n",
    "    accuracies.append(accuracy)\n",
    "\n",
    "fig, (ax1, ax2, ax3) = plt.subplots(1, 3, figsize=(10, 5))\n",
    "data = zip([ax1, ax2, ax3],\n",
    "           [precisions, recalls, accuracies],\n",
    "           ['Precision', 'Recall', 'Accuracy'])\n",
    "\n",
    "for ax, metric, title in data:\n",
    "    ax.plot(thresholds, metric)\n",
    "    ax.set_title(f\"{title} vs Threshold\")\n",
    "    ax.set_xlabel('Threshold')\n",
    "    ax.set_ylabel(title)\n",
    "\n",
    "plt.tight_layout()\n",
    "plt.show()"
   ]
  },
  {
   "attachments": {},
   "cell_type": "markdown",
   "id": "993b2561",
   "metadata": {},
   "source": [
    "## 3. Πρόβλεψη συνδέσμων βάσει similarity-based μετρικών"
   ]
  },
  {
   "attachments": {},
   "cell_type": "markdown",
   "id": "9fc68cec",
   "metadata": {},
   "source": [
    "### 3.1.\n",
    "Προτείνετε μια τουλάχιστον μέθοδο, για να εξερευνήσουμε και να εκφράσουμε μέσα από τα πακέτα NumPy ή SciPy ή Pandas την συσχέτιση (correlation) μεταξύ των τιμών των μετρικών **Jaccard Coefficient**, **Preferential Attachment**, **Resource Allocation** για τον μειωμένο γράφο $G'$. \n",
    "\n",
    "***Σημείωση***: Δεν χρειάζεται κάποια υλοποίηση, μόνο αναφορά της μεθόδου συσχέτισης και επεξήγηση της επιλογής σας."
   ]
  },
  {
   "attachments": {},
   "cell_type": "markdown",
   "id": "2224ebdf",
   "metadata": {},
   "source": [
    "### 3.2.\n",
    "Εργαστείτε πάνω σε **αντίγραφο** του dataframe που κατασκευάσατε στο ερώτημα 1.5.a (unconnected+removables). Δημιουργήστε στήλη (column) με τις ακμές του γράφου και θέστε την ως index του dataframe. Στο dataframe θα προσθέσετε ως στήλες τις τιμές των μετρικών (**Jaccard Coefficient**, **Preferential Attachment**, **Resource Allocation**) για τον μειωμένο γράφο $G'$. Οι τιμές των μετρικών μπορούν να υπολογιστούν με τις συναρτήσεις του πακέτου NetworkX.\n",
    "\n",
    "|       | link  |Jacc.Coeff.|Pr.Attachment| Resource Allocation|\n",
    "|-------|-------|-----------|-------------|--------------------|\n",
    "|(1, 6) |  0    |  0.333333 |     32      |    0.700000        |\n",
    "|(1, 46)|  0    |  0.200000 |      8      |    0.166667        |"
   ]
  },
  {
   "cell_type": "code",
   "execution_count": 5,
   "id": "7c40c8d6",
   "metadata": {},
   "outputs": [],
   "source": [
    "#replicate of the dataframe \"unconnected+removables\"---dataframe will be used again in (4)"
   ]
  },
  {
   "cell_type": "code",
   "execution_count": 6,
   "id": "8c65a3e6",
   "metadata": {},
   "outputs": [],
   "source": [
    "#dataframe for similarity-based measurement values\n",
    "#Jaccard Coefficient\n",
    "\n",
    "#Preferential Attachment\n",
    "\n",
    "#Resource Allocation"
   ]
  },
  {
   "attachments": {},
   "cell_type": "markdown",
   "id": "eaf8679f",
   "metadata": {},
   "source": [
    "### 3.3.\n",
    "a. Χρησιμοποιήστε τον Random Forest Classifier και το αντίγραφο dataframe που κατασκευάσατε στο ερώτημα 3.2, για να προβλέψετε συνδέσεις. Συμπληρώστε στον κώδικα: τα features ($X$), την target variable ($y$) και τα ορίσματα της συνάρτησης $fit$ για το training του μοντέλου.\n",
    "\n",
    "b. Δώστε τις ($A.M$ $mod$ $10$) πρώτες προβλέψεις και την ακρίβεια ($accuracy$) του μοντέλου.\n",
    "\n",
    "c. Υπολογίστε την πιθανότητα να συνδεθούν οι κόμβοι ($1$,$47$) βάσει του μοντέλου σας."
   ]
  },
  {
   "cell_type": "code",
   "execution_count": 7,
   "id": "df4a65f5",
   "metadata": {},
   "outputs": [],
   "source": [
    "#uncomment whole cell\n",
    "#from sklearn.model_selection import train_test_split\n",
    "#from sklearn.ensemble import RandomForestClassifier\n",
    "#from sklearn.metrics import accuracy_score\n",
    "#from sklearn.model_selection import GridSearchCV\n",
    " \n",
    "#X =             #features, uncomment and complete\n",
    "#y = ...['link'] #target, uncomment and complete\n",
    "\n",
    "#X_train, X_test, y_train, y_test = train_test_split(, , random_state = 0) #uncomment and complete"
   ]
  },
  {
   "cell_type": "code",
   "execution_count": 8,
   "id": "26affc3a",
   "metadata": {},
   "outputs": [],
   "source": [
    "#uncomment whole cell\n",
    "#classifier = RandomForestClassifier()   \n",
    "\n",
    "#from sklearn.preprocessing import MinMaxScaler \n",
    "#mm_scaler = MinMaxScaler() \n",
    "#X_train_scaled = mm_scaler.fit_transform(X_train)\n",
    "#X_test_scaled = mm_scaler.transform(X_test)\n",
    "\n",
    "#parameters = {'n_estimators' : [10,50,100], 'max_depth' : [5,10,15]} \n",
    "#model = GridSearchCV(classifier, param_grid = parameters) "
   ]
  },
  {
   "cell_type": "code",
   "execution_count": 9,
   "id": "431e2d35",
   "metadata": {},
   "outputs": [],
   "source": [
    "#model.fit(X_train_scaled, )#train the model, uncomment and complete"
   ]
  },
  {
   "cell_type": "code",
   "execution_count": 10,
   "id": "1b075584",
   "metadata": {},
   "outputs": [],
   "source": [
    "#predictions = model.predict(X_test_scaled)       #uncomment\n",
    "#predictions[ ] #get (A.M. last digit) first predictions, uncomment and complete"
   ]
  },
  {
   "cell_type": "code",
   "execution_count": 11,
   "id": "b042eca7",
   "metadata": {},
   "outputs": [],
   "source": [
    "#predict_proba = model.predict_proba(...) #uncomment and complete"
   ]
  },
  {
   "attachments": {},
   "cell_type": "markdown",
   "id": "7c69a7dc",
   "metadata": {},
   "source": [
    "## 4. Πρόβλεψη συνδέσμων με embedding βασισμένο σε τυχαίους περιπάτους (Random Walks)"
   ]
  },
  {
   "attachments": {},
   "cell_type": "markdown",
   "id": "3e274fe0",
   "metadata": {},
   "source": [
    "### 4.1.\n",
    "Εξάγετε τα χαρακτηριστικά (features) του γράφου $G'$, που προέκυψε από την αφαίρεση των ακμών. Για τον σκοπό αυτό χρησιμοποιήστε τον αλγόριθμο **Node2vec** [[3]](https://cs.stanford.edu/~jure/pubs/node2vec-kdd16.pdf). Ο αλγόριθμος αντιστοιχίζει τους κόμβους του γράφου μέσω τυχαίων περιπάτων (biased 2nd order random walks) σε ένα χώρο μικρού αριθμού διαστάσεων (low dimensional space) διατηρώντας την μεταξύ τους γειτνίαση.\n",
    "\n",
    "Για την επιλογή των παραμέτρων:\n",
    "* p - παράμετρος τυχαίων περιπάτων p που καθορίζει την πιθανότητα “1/p” επιστροφής στον κόμβο προέλευσης (source node),\n",
    "* q - παράμετρος τυχαίων περιπάτων q που καθορίζει την πιθανότητα  “1/q” μετακίνησης σε κόμβο μακριά από τον κόμβο προέλευσης (source node),\n",
    "* dimensions - πλήθος διαστάσεων των Node2Vec embeddings,\n",
    "* num_walks - αριθμός περιπάτων από κάθε κόμβο,\n",
    "* walk_length - μήκος τυχαίου περιπάτου,\n",
    "* window_size - μέγεθος παραθύρου context για τον αλγόριθμο Word2Vec,\n",
    "* num_iter - αριθμός SGD επαναλήψεων (epochs),\n",
    "* workers - αριθμός workers για τον Word2Vec,\n",
    "\n",
    "χρησιμοποιήστε τις τιμές:\n",
    "\n",
    "|   p   |   q   | dimensions|  num_walks  |walk_length |window_size|          workers          |\n",
    "|-------|-------|-----------|-------------|------------|-----------|---------------------------|\n",
    "|  1.0  |  1.0  |  128      |     10      |    80      |     10    |multiprocessing.cpu_count()|"
   ]
  },
  {
   "cell_type": "code",
   "execution_count": 12,
   "id": "aa8e668d",
   "metadata": {},
   "outputs": [],
   "source": [
    "#install node2vec with conda / pip\n",
    "#from node2vec import Node2Vec   #uncomment\n",
    "#import multiprocessing          #uncomment\n",
    "\n",
    "#generate walks\n",
    "#node2vec_walker = Node2Vec(, , , , , , ) #uncomment and complete\n",
    "\n",
    "#train node2vec model\n",
    "#n2v_model = node2vec_walker.fit(window= , min_count=1) #uncomment and complete"
   ]
  },
  {
   "attachments": {},
   "cell_type": "markdown",
   "id": "4af2f338",
   "metadata": {},
   "source": [
    "### 4.2.\n",
    "Εφαρμόστε τον αλγόριθμο Random Forest Classifier, για να προβλέψετε τις συνδέσεις."
   ]
  },
  {
   "attachments": {},
   "cell_type": "markdown",
   "id": "294f0aab",
   "metadata": {},
   "source": [
    "### 4.3.\n",
    "Υπολογίστε την ακρίβεια ($accuracy$) του μοντέλου."
   ]
  },
  {
   "cell_type": "code",
   "execution_count": 13,
   "id": "6269b89a",
   "metadata": {},
   "outputs": [],
   "source": [
    "#apply trained Node2Vec model on each node pair of the dataframe \"unconnected+removables\"\n",
    "#uncomment:\n",
    "#x = [(n2v_model.wv[str(i)]+n2v_model.wv[str(j)]) for i,j in zip(df_with_target_var['node_1'], df_with_target_var['node_2'])]"
   ]
  },
  {
   "cell_type": "code",
   "execution_count": 14,
   "id": "b74e7aa7",
   "metadata": {},
   "outputs": [],
   "source": [
    "#X_train, X_test, y_train, y_test = train_test_split(, , random_state = 0)  #uncomment and complete"
   ]
  },
  {
   "cell_type": "code",
   "execution_count": 15,
   "id": "e75cfde7",
   "metadata": {},
   "outputs": [],
   "source": [
    "#uncomment whole cell\n",
    "#from sklearn.ensemble import RandomForestClassifier\n",
    "#from sklearn.metrics import accuracy_score\n",
    "\n",
    "#classifier = RandomForestClassifier(max_depth=2, random_state=0) \n",
    "#classifier.fit()   #uncomment and complete"
   ]
  },
  {
   "attachments": {},
   "cell_type": "markdown",
   "id": "45e5f4cf",
   "metadata": {},
   "source": [
    "### Bonus Question (+10/100)\n",
    "Για τους binary operators για learning των edge features με τον αλγόριθμο Node2Vec που αναφέρονται στο [[3]](https://cs.stanford.edu/~jure/pubs/node2vec-kdd16.pdf), δηλαδή τους (a) Average, (b) Hadamard, (c) Weighted-L1 και (d) Weighted-L2 τροποποιήστε τoν κώδικά σας και σημειώστε τις παρατηρήσεις σας ως προς την απόδοση του αλγορίθμου."
   ]
  },
  {
   "attachments": {},
   "cell_type": "markdown",
   "id": "8da3a402",
   "metadata": {},
   "source": [
    "## Βιβλιογραφία\n",
    "[[1]Jérôme Kunegis. KONECT – The Koblenz Network Collection. In Proc. Int. Conf. on World Wide Web Companion, pages 1343–1350, 2013.](https://dl.acm.org/doi/10.1145/2487788.2488173)\n",
    "\n",
    "[[2]Sören Auer, Christian Bizer, Georgi Kobilarov, Jens Lehmann, Richard Cyganiak, and Zachary Ives. DBpedia: A nucleus for a web of open data. In Proc. Int. Semant. Web Conf., pages 722–735, 2008.](https://link.springer.com/chapter/10.1007/978-3-540-76298-0_52)\n",
    "\n",
    "[[3]A. Grover, J. Leskovec, Node2vec: Scalable Feature Learning for Networks. ACM KDD, 2016.](https://cs.stanford.edu/~jure/pubs/node2vec-kdd16.pdf)\n",
    "\n",
    "[[4]T.Mikolov, I.Sutskever, K.Chen, G.S.Corrado and J.Dean, Distributed representations of words and phrases and their compositionality. In NIPS, 2013.](https://proceedings.neurips.cc/paper/2013/file/9aa42b31882ec039965f3c4923ce901b-Paper.pdf)"
   ]
  }
 ],
 "metadata": {
  "kernelspec": {
   "display_name": "Python 3",
   "language": "python",
   "name": "python3"
  },
  "language_info": {
   "codemirror_mode": {
    "name": "ipython",
    "version": 3
   },
   "file_extension": ".py",
   "mimetype": "text/x-python",
   "name": "python",
   "nbconvert_exporter": "python",
   "pygments_lexer": "ipython3",
   "version": "3.10.9"
  },
  "vscode": {
   "interpreter": {
    "hash": "916dbcbb3f70747c44a77c7bcd40155683ae19c65e1c03b4aa3499c5328201f1"
   }
  }
 },
 "nbformat": 4,
 "nbformat_minor": 5
}
